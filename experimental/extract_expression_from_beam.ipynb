{
 "cells": [
  {
   "cell_type": "code",
   "execution_count": 1,
   "metadata": {},
   "outputs": [],
   "source": [
    "def extract_expression_from_beam(beam: list[str]) -> str:\n",
    "    '''\n",
    "    Extract the expression from a beam. The expression starts with the <bos> token and ends with the <eos> token.\n",
    "\n",
    "    Parameters\n",
    "    ----------\n",
    "    beam : list[int]\n",
    "        The beam to extract the expression from.\n",
    "\n",
    "    Returns\n",
    "    -------\n",
    "    str\n",
    "        The extracted expression.\n",
    "    '''\n",
    "    bos_position = beam.index(\"<bos>\")\n",
    "    eos_position = beam.index(\"<eos>\")\n",
    "    return beam[bos_position + 1:eos_position]"
   ]
  },
  {
   "cell_type": "code",
   "execution_count": 2,
   "metadata": {},
   "outputs": [
    {
     "data": {
      "text/plain": [
       "['a', 'b', 'c']"
      ]
     },
     "execution_count": 2,
     "metadata": {},
     "output_type": "execute_result"
    }
   ],
   "source": [
    "extract_expression_from_beam([\"<bos>\", \"a\", \"b\", \"c\", \"<eos>\", \"d\", \"e\", \"f\"]) # ['a', 'b', 'c']"
   ]
  }
 ],
 "metadata": {
  "kernelspec": {
   "display_name": "flash-ansr",
   "language": "python",
   "name": "python3"
  },
  "language_info": {
   "codemirror_mode": {
    "name": "ipython",
    "version": 3
   },
   "file_extension": ".py",
   "mimetype": "text/x-python",
   "name": "python",
   "nbconvert_exporter": "python",
   "pygments_lexer": "ipython3",
   "version": "3.11.10"
  }
 },
 "nbformat": 4,
 "nbformat_minor": 2
}
