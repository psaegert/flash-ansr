{
 "cells": [
  {
   "cell_type": "code",
   "execution_count": 1,
   "metadata": {},
   "outputs": [],
   "source": [
    "from sympy import simplify, parse_expr\n",
    "from tqdm import tqdm\n",
    "import matplotlib.pyplot as plt\n",
    "import numpy as np\n",
    "from flash_ansr import SkeletonPool, get_path, ExpressionSpace\n",
    "from flash_ansr.expressions.utils import num_to_constants, numbers_to_num\n",
    "from flash_ansr.expressions import NoValidSampleFoundError\n",
    "from flash_ansr.eval.utils import bootstrapped_metric_ci\n",
    "import time\n",
    "import pickle"
   ]
  },
  {
   "cell_type": "code",
   "execution_count": 2,
   "metadata": {},
   "outputs": [
    {
     "name": "stderr",
     "output_type": "stream",
     "text": [
      "Compiling Skeletons: 100%|██████████| 43/43 [00:00<00:00, 40684.65it/s]\n"
     ]
    }
   ],
   "source": [
    "pool = SkeletonPool.load(get_path('data', 'ansr-data', 'test_set', 'feynman', 'skeleton_pool'))"
   ]
  },
  {
   "cell_type": "code",
   "execution_count": 3,
   "metadata": {},
   "outputs": [],
   "source": [
    "original_space = ExpressionSpace.from_config(get_path('configs', 'v7.0', 'expression_space.yaml'))"
   ]
  },
  {
   "cell_type": "code",
   "execution_count": 4,
   "metadata": {},
   "outputs": [
    {
     "name": "stderr",
     "output_type": "stream",
     "text": [
      "Compiling Skeletons: 100%|██████████| 200/200 [00:00<00:00, 43813.89it/s]\n",
      "Compiling Skeletons: 100%|██████████| 43/43 [00:00<00:00, 41710.24it/s]\n",
      "Compiling Skeletons: 100%|██████████| 10/10 [00:00<00:00, 24921.59it/s]\n",
      "Compiling Skeletons: 100%|██████████| 4999/4999 [00:00<00:00, 27903.45it/s]\n"
     ]
    }
   ],
   "source": [
    "pool = SkeletonPool.from_config(get_path('configs', 'v7.20', 'skeleton_pool_val.yaml'))\n",
    "max_ops = 15\n",
    "pool.sample_strategy['max_operators'] = max_ops\n",
    "pool.sample_strategy['max_tries'] = 100\n",
    "pool.simplify = False"
   ]
  },
  {
   "cell_type": "code",
   "execution_count": 6,
   "metadata": {},
   "outputs": [
    {
     "name": "stderr",
     "output_type": "stream",
     "text": [
      " 96%|█████████▌| 959275/1000000 [58:13<02:19, 290.97it/s, n_invalid=93872]  "
     ]
    }
   ],
   "source": [
    "# Stability test\n",
    "pool.simplify = True\n",
    "n_invalid = 0\n",
    "pbar = tqdm(range(int(1e6)))\n",
    "for i in pbar:\n",
    "    try:\n",
    "        pool.sample(n_support=np.random.randint(16, 512))\n",
    "    except NoValidSampleFoundError:\n",
    "        n_invalid += 1\n",
    "    pbar.set_postfix(n_invalid=n_invalid)\n",
    "pbar.close()\n",
    "pool.simplify = False"
   ]
  },
  {
   "cell_type": "code",
   "execution_count": 5,
   "metadata": {},
   "outputs": [
    {
     "data": {
      "text/plain": [
       "5119"
      ]
     },
     "execution_count": 5,
     "metadata": {},
     "output_type": "execute_result"
    }
   ],
   "source": [
    "len(pool.expression_space.simplification_rules)"
   ]
  },
  {
   "cell_type": "code",
   "execution_count": 6,
   "metadata": {},
   "outputs": [
    {
     "name": "stdout",
     "output_type": "stream",
     "text": [
      "(('+', '1', '-', '<num>', '_0'), ('-', '<num>', '_0'))\n",
      "(('+', '1', '-', '_0', '<num>'), ('-', '_0', '<num>'))\n",
      "(('+', '<num>', '-', '_0', '(-1)'), ('+', '<num>', '_0'))\n",
      "(('+', '<num>', '-', '1', '_0'), ('-', '<num>', '_0'))\n",
      "(('+', '<num>', '-', '_0', '1'), ('+', '<num>', '_0'))\n",
      "(('+', '<num>', '-', '(-1)', '_0'), ('-', '<num>', '_0'))\n",
      "(('+', '(-1)', '-', '<num>', '_0'), ('-', '<num>', '_0'))\n",
      "(('+', '(-1)', '-', '_0', '<num>'), ('-', '_0', '<num>'))\n",
      "(('+', '0', '-', '<num>', '_0'), ('-', '<num>', '_0'))\n",
      "(('+', '0', '-', '_0', '<num>'), ('-', '_0', '<num>'))\n",
      "(('-', '<num>', 'neg', 'mult2', '_0'), ('+', '<num>', 'mult2', '_0'))\n",
      "(('-', '*', '<num>', '_0', '_0'), ('*', '<num>', '_0'))\n",
      "(('-', '/', '_0', '<num>', '_0'), ('*', '<num>', '_0'))\n",
      "(('-', '1', '-', '<num>', '_0'), ('-', '_0', '<num>'))\n",
      "(('-', '1', '+', '<num>', '_0'), ('-', '<num>', '_0'))\n",
      "(('-', '1', '-', '_0', '<num>'), ('-', '<num>', '_0'))\n",
      "(('-', '_0', '*', '<num>', '_0'), ('*', '<num>', '_0'))\n",
      "(('-', '_0', '/', '_0', '<num>'), ('*', '<num>', '_0'))\n",
      "(('-', '<num>', '/', '_0', '0'), ('*', '_0', 'float(\"-inf\")'))\n",
      "(('-', '<num>', '/', 'float(\"-inf\")', '_0'), ('/', '_0', '0'))\n",
      "(('-', '<num>', '*', 'float(\"-inf\")', '_0'), ('/', '_0', '0'))\n",
      "(('-', '<num>', '+', '_0', '1'), ('-', '<num>', '_0'))\n",
      "(('-', '<num>', '+', '(-1)', '_0'), ('-', '<num>', '_0'))\n",
      "(('-', '<num>', '*', 'float(\"inf\")', '_0'), ('/', 'float(\"-inf\")', '_0'))\n",
      "(('-', '<num>', '-', '_0', '(-1)'), ('-', '<num>', '_0'))\n",
      "(('-', '<num>', '/', '(-1)', '_0'), ('-', 'inv', '_0', '<num>'))\n",
      "(('-', '<num>', '-', '1', '_0'), ('-', '_0', '<num>'))\n",
      "(('-', '<num>', '/', 'float(\"inf\")', '_0'), ('/', 'float(\"-inf\")', '_0'))\n",
      "(('-', '<num>', '-', '_0', '1'), ('-', '<num>', '_0'))\n",
      "(('-', '<num>', '-', '(-1)', '_0'), ('+', '<num>', '_0'))\n",
      "(('-', '(-1)', '-', '<num>', '_0'), ('-', '_0', '<num>'))\n",
      "(('-', '(-1)', '+', '<num>', '_0'), ('-', '<num>', '_0'))\n",
      "(('-', '(-1)', '-', '_0', '<num>'), ('-', '<num>', '_0'))\n",
      "(('-', '-', '<num>', '_0', '1'), ('-', '<num>', '_0'))\n",
      "(('-', '-', '<num>', '_0', '(-1)'), ('-', '<num>', '_0'))\n",
      "(('-', '+', '_0', '1', '<num>'), ('+', '<num>', '_0'))\n",
      "(('-', '+', '<num>', '_0', '1'), ('+', '<num>', '_0'))\n",
      "(('-', '+', '<num>', '_0', '(-1)'), ('+', '<num>', '_0'))\n",
      "(('-', '+', '(-1)', '_0', '<num>'), ('+', '<num>', '_0'))\n",
      "(('-', '-', '_0', '(-1)', '<num>'), ('+', '<num>', '_0'))\n",
      "(('-', '/', '(-1)', '_0', '<num>'), ('-', '<num>', 'inv', '_0'))\n",
      "(('-', '-', '_0', '<num>', '1'), ('-', '_0', '<num>'))\n",
      "(('-', '-', '_0', '<num>', '(-1)'), ('-', '_0', '<num>'))\n",
      "(('-', '-', '1', '_0', '<num>'), ('-', '<num>', '_0'))\n",
      "(('-', '-', '_0', '1', '<num>'), ('+', '<num>', '_0'))\n",
      "(('-', '-', '(-1)', '_0', '<num>'), ('-', '<num>', '_0'))\n",
      "(('*', '1', '-', '<num>', '_0'), ('-', '<num>', '_0'))\n",
      "(('*', '1', '-', '_0', '<num>'), ('-', '_0', '<num>'))\n",
      "(('*', '0', '-', '<num>', '_0'), ('0',))\n",
      "(('*', '0', '-', '_0', '<num>'), ('0',))\n",
      "(('neg', 'atan', '-', '_0', '<num>'), ('atan', '-', '<num>', '_0'))\n",
      "(('neg', 'pow5', '-', '_0', '<num>'), ('pow5', '-', '<num>', '_0'))\n",
      "(('neg', 'cos', '-', '<num>', '_0'), ('cos', '-', '<num>', '_0'))\n",
      "(('neg', 'cos', '-', '_0', '<num>'), ('cos', '-', '_0', '<num>'))\n",
      "(('neg', 'sin', '-', '<num>', '_0'), ('cos', '-', '_0', '<num>'))\n",
      "(('neg', 'mult4', '-', '_0', '<num>'), ('mult4', '-', '<num>', '_0'))\n",
      "(('neg', 'mult5', '-', '_0', '<num>'), ('-', '<num>', 'mult5', '_0'))\n",
      "(('neg', 'div4', '-', '<num>', '_0'), ('div4', '+', '<num>', '_0'))\n",
      "(('neg', 'div4', '-', '_0', '<num>'), ('-', '<num>', 'div4', '_0'))\n",
      "(('neg', 'div5', '-', '_0', '<num>'), ('-', '<num>', 'div5', '_0'))\n",
      "(('neg', 'exp', '-', '_0', '<num>'), ('/', 'exp', '_0', '<num>'))\n",
      "(('neg', 'div2', '-', '_0', '<num>'), ('-', '<num>', 'div2', '_0'))\n",
      "(('neg', 'exp', '-', '<num>', '_0'), ('/', '<num>', 'exp', '_0'))\n"
     ]
    }
   ],
   "source": [
    "for rule in pool.expression_space.simplification_rules:\n",
    "    # if len(rule[0]) == 5 and '<num>' in rule[0] and '_0' in rule[0] and not any('float' in t for t in rule[0]):\n",
    "    #     # print(rule)\n",
    "    #     if rule[0] ==  ('+', '+', '<num>', '_0', '<num>'):\n",
    "    #         print(rule)\n",
    "    if len(rule[0]) == 5 and \"<num>\" in rule[0] and \"-\" in rule[0]:\n",
    "        print(rule)"
   ]
  },
  {
   "cell_type": "code",
   "execution_count": 7,
   "metadata": {},
   "outputs": [],
   "source": [
    "expression = ['/', 'x2', '*', '*', '*', '<num>', '*', '/', 'x3', '<num>', '*', 'x3', 'x3', 'x3', '*', 'x3', '*', '*', 'x3', '<num>', 'x3']"
   ]
  },
  {
   "cell_type": "code",
   "execution_count": 7,
   "metadata": {},
   "outputs": [
    {
     "name": "stdout",
     "output_type": "stream",
     "text": [
      "('<num>',)\n"
     ]
    }
   ],
   "source": [
    "print(pool.expression_space.simplify(('mult3', '*', 'inv', 'x3', '*', 'div5', 'x3', '<num>')))"
   ]
  },
  {
   "cell_type": "code",
   "execution_count": 7,
   "metadata": {},
   "outputs": [
    {
     "data": {
      "text/plain": [
       "['+', [['+', [['<num>'], ['_0']]], ['<num>']]]"
      ]
     },
     "execution_count": 7,
     "metadata": {},
     "output_type": "execute_result"
    }
   ],
   "source": [
    "pool.expression_space.prefix_to_tree(list(('+', '+', '<num>', '_0', '<num>')))"
   ]
  },
  {
   "cell_type": "code",
   "execution_count": 8,
   "metadata": {},
   "outputs": [
    {
     "name": "stdout",
     "output_type": "stream",
     "text": [
      "('+', '<num>', 'x2')\n"
     ]
    }
   ],
   "source": [
    "print(pool.expression_space.simplify(('+', '+', '<num>', 'x2', '<num>')))"
   ]
  },
  {
   "cell_type": "code",
   "execution_count": 9,
   "metadata": {},
   "outputs": [
    {
     "data": {
      "text/plain": [
       "(True, {'_0': ['x2']})"
      ]
     },
     "execution_count": 9,
     "metadata": {},
     "output_type": "execute_result"
    }
   ],
   "source": [
    "pool.expression_space.match_pattern(['+', [['+', [['<num>'], ['x2']]], ['<num>']]], ['+', [['+', [['<num>'], ['_0']]], ['<num>']]])"
   ]
  },
  {
   "cell_type": "code",
   "execution_count": 10,
   "metadata": {},
   "outputs": [],
   "source": [
    "# TODO:\n",
    "# - [x] Make+ rules unique\n",
    "# - [ ] Find out why rules are sometimes not applied although they are in the rules list. Something with the tree patterns?\n",
    "# - [ ] rules_trees_from_rules_list is buggy somehow. look at the mismatch above this cell"
   ]
  },
  {
   "cell_type": "code",
   "execution_count": 11,
   "metadata": {},
   "outputs": [],
   "source": [
    "expression = ('+', 'float(\"inf\")', 'float(\"inf\")')"
   ]
  },
  {
   "cell_type": "code",
   "execution_count": 12,
   "metadata": {},
   "outputs": [
    {
     "name": "stdout",
     "output_type": "stream",
     "text": [
      "['float(\"inf\")']\n"
     ]
    }
   ],
   "source": [
    "new_expression = pool.expression_space._apply_auto_flash_simplifcation_rules(['+', 'mult2', 'float(\"inf\")', '0'], pool.expression_space.simplification_rules_trees)\n",
    "print(new_expression)"
   ]
  },
  {
   "cell_type": "code",
   "execution_count": 13,
   "metadata": {},
   "outputs": [
    {
     "name": "stdout",
     "output_type": "stream",
     "text": [
      "('<num>',)\n"
     ]
    }
   ],
   "source": [
    "expression = ('+', 'float(\"inf\")', 'float(\"inf\")')\n",
    "new_expression = pool.expression_space.simplify(expression)\n",
    "# new_expression = pool.expression_space._apply_auto_flash_simplifcation_rules(expression, pool.expression_space.simplification_rules_trees)\n",
    "print(new_expression)\n",
    "# FIXME"
   ]
  },
  {
   "cell_type": "code",
   "execution_count": 14,
   "metadata": {},
   "outputs": [
    {
     "name": "stdout",
     "output_type": "stream",
     "text": [
      "0: ('abs', 'abs', '_0')                               -> ('abs', '_0')\n",
      "1: ('/', '-', '<num>', '_0', '/', '_0', '<num>')      -> ('+', '<num>', '/', '<num>', '_0')\n",
      "2: ('*', 'pow4', '_0', '/', '_1', '0')                -> ('/', '_1', '0')\n",
      "3: ('/', '(-1)', '/', 'float(\"inf\")', '_0')           -> ('0',)\n",
      "4: ('*', 'div3', '_0', '/', 'float(\"inf\")', '_1')     -> ('*', '_0', '/', '_1', '0')\n"
     ]
    }
   ],
   "source": [
    "# Show 5 random rules\n",
    "import random\n",
    "\n",
    "for i in range(5):\n",
    "    rule = random.choice(pool.expression_space.simplification_rules)\n",
    "    rule_str_0 = str(rule[0])\n",
    "    rule_str_1 = str(rule[1])\n",
    "    print(f'{i}: {rule_str_0:<50} -> {rule_str_1}')"
   ]
  },
  {
   "cell_type": "code",
   "execution_count": 15,
   "metadata": {},
   "outputs": [
    {
     "name": "stdout",
     "output_type": "stream",
     "text": [
      "('+', 'x1', 'acos', 'x3')\n"
     ]
    }
   ],
   "source": [
    "expression = ('+', 'x1', '*', 'x3', '/', 'acos', 'x3', 'x3')\n",
    "new_expression = pool.expression_space.simplify(expression)\n",
    "print(new_expression)\n",
    "# FIXME"
   ]
  },
  {
   "cell_type": "code",
   "execution_count": 16,
   "metadata": {},
   "outputs": [
    {
     "data": {
      "text/plain": [
       "['+', '*', '+', 'x3', 'x2', '-', '0', '0', 'x3']"
      ]
     },
     "execution_count": 16,
     "metadata": {},
     "output_type": "execute_result"
    }
   ],
   "source": [
    "expression = (\n",
    "    '+',\n",
    "        '*',\n",
    "            '+', 'x3', 'x2',\n",
    "            '-', 'x3', 'x3',\n",
    "    'x3')\n",
    "expression_tree, annotated_expression_tree, stack_labels = pool.expression_space.collect_multiplicities(expression)\n",
    "# print(expression_tree)\n",
    "# print(annotated_expression_tree)\n",
    "# print(stack_labels)\n",
    "new_expression = pool.expression_space.cancel_terms(expression_tree, annotated_expression_tree, stack_labels)\n",
    "new_expression"
   ]
  },
  {
   "cell_type": "code",
   "execution_count": 17,
   "metadata": {},
   "outputs": [
    {
     "data": {
      "text/plain": [
       "['+', '+', '<num>', '*', '<num>', 'x1', '0']"
      ]
     },
     "execution_count": 17,
     "metadata": {},
     "output_type": "execute_result"
    }
   ],
   "source": [
    "expression = ('+', '+', '<num>', '*', '<num>', 'x1', '<num>')            \n",
    "expression_tree, annotated_expression_tree, stack_labels = pool.expression_space.collect_multiplicities(expression)\n",
    "# print(expression_tree)\n",
    "# print(annotated_expression_tree)\n",
    "# print(stack_labels)\n",
    "new_expression = pool.expression_space.cancel_terms(expression_tree, annotated_expression_tree, stack_labels)\n",
    "new_expression"
   ]
  },
  {
   "cell_type": "code",
   "execution_count": 18,
   "metadata": {},
   "outputs": [
    {
     "data": {
      "text/plain": [
       "['+', '+', 'mult2', 'x1', '*', 'x1', 'x2', '0']"
      ]
     },
     "execution_count": 18,
     "metadata": {},
     "output_type": "execute_result"
    }
   ],
   "source": [
    "expression = ('+', '+', 'x1', '*', 'x1', 'x2', 'x1')            \n",
    "expression_tree, annotated_expression_tree, stack_labels = pool.expression_space.collect_multiplicities(expression)\n",
    "# print(expression_tree)\n",
    "# print(annotated_expression_tree)\n",
    "# print(stack_labels)\n",
    "new_expression = pool.expression_space.cancel_terms(expression_tree, annotated_expression_tree, stack_labels)\n",
    "new_expression"
   ]
  },
  {
   "cell_type": "code",
   "execution_count": 19,
   "metadata": {},
   "outputs": [
    {
     "name": "stdout",
     "output_type": "stream",
     "text": [
      "('+', '<num>', '*', '<num>', 'x1')\n"
     ]
    }
   ],
   "source": [
    "expression = ('+', '+', '<num>', '*', '<num>', 'x1', '<num>')\n",
    "assert pool.expression_space.is_valid(expression)\n",
    "new_expression = pool.expression_space.simplify(expression)\n",
    "print(new_expression)"
   ]
  },
  {
   "cell_type": "code",
   "execution_count": 20,
   "metadata": {},
   "outputs": [
    {
     "name": "stdout",
     "output_type": "stream",
     "text": [
      "('div5', '/', 'x1', '*', '<num>', 'pow3', 'x1')\n"
     ]
    }
   ],
   "source": [
    "expression = ('div5', '/', 'x1', '*', 'pow3', 'x1', '<num>')\n",
    "assert pool.expression_space.is_valid(expression)\n",
    "new_expression = pool.expression_space.simplify(expression, max_iter=5, mask_elementary_literals=True)\n",
    "print(new_expression)"
   ]
  },
  {
   "cell_type": "code",
   "execution_count": 21,
   "metadata": {},
   "outputs": [
    {
     "name": "stdout",
     "output_type": "stream",
     "text": [
      "['-', 'x3', 'log', 'x1']\n"
     ]
    }
   ],
   "source": [
    "expression = ['+', '-', 'sin', 'sin', '-', 'x2', 'x2', 'log', 'x1', 'x3']\n",
    "assert pool.expression_space.is_valid(expression)\n",
    "new_expression = pool.expression_space.simplify(expression, max_iter=5, mask_elementary_literals=True)\n",
    "print(new_expression)\n",
    "assert new_expression == ['-', 'x3', 'log', 'x1']"
   ]
  },
  {
   "cell_type": "code",
   "execution_count": 22,
   "metadata": {},
   "outputs": [
    {
     "name": "stdout",
     "output_type": "stream",
     "text": [
      "('+', 'tan', 'x1', '-', '<num>', 'inv', 'x2')\n"
     ]
    }
   ],
   "source": [
    "expression = pool.expression_space.simplify(('+', 'tan', 'x1', '-', 'log', '<num>', 'inv', 'x2'))\n",
    "print(expression)\n",
    "assert expression == ('+', 'tan', 'x1', '-', '<num>', 'inv', 'x2')"
   ]
  },
  {
   "cell_type": "code",
   "execution_count": 23,
   "metadata": {},
   "outputs": [
    {
     "name": "stdout",
     "output_type": "stream",
     "text": [
      "('abs', '*', '<num>', '-', 'x3', 'x2')\n"
     ]
    }
   ],
   "source": [
    "expression = pool.expression_space.simplify(('abs', '*', '-', 'x3', 'x2', 'sin', '-', '<num>', '<num>'))\n",
    "print(expression)\n",
    "assert expression == ('abs', '*', '<num>', '-', 'x3', 'x2')"
   ]
  },
  {
   "cell_type": "code",
   "execution_count": 24,
   "metadata": {},
   "outputs": [
    {
     "name": "stdout",
     "output_type": "stream",
     "text": [
      "['abs', '*', '-', '<num>', 'x2', 'sin', '-', '<num>', '<num>']\n"
     ]
    }
   ],
   "source": [
    "expression = pool.expression_space.sort_operands(('abs', '*', 'sin', '-', '<num>', '<num>', '-', '<num>', 'x2', ))\n",
    "print(expression)"
   ]
  },
  {
   "cell_type": "code",
   "execution_count": 25,
   "metadata": {},
   "outputs": [
    {
     "name": "stdout",
     "output_type": "stream",
     "text": [
      "('+', '<num>', 'x2')\n"
     ]
    }
   ],
   "source": [
    "expression = pool.expression_space.simplify(('+', '<num>', '+', 'x2', '<num>',))\n",
    "print(expression)\n",
    "assert expression == ('+', '<num>', 'x2')"
   ]
  },
  {
   "cell_type": "code",
   "execution_count": 26,
   "metadata": {},
   "outputs": [
    {
     "name": "stdout",
     "output_type": "stream",
     "text": [
      "('<num>',)\n"
     ]
    }
   ],
   "source": [
    "expression = pool.expression_space.simplify(('+', '+', '<num>', '<num>', '<num>'))\n",
    "print(expression)\n",
    "assert expression == ('<num>',)"
   ]
  },
  {
   "cell_type": "code",
   "execution_count": 27,
   "metadata": {},
   "outputs": [
    {
     "name": "stdout",
     "output_type": "stream",
     "text": [
      "('atan', 'tan', 'x2')\n"
     ]
    }
   ],
   "source": [
    "expression = pool.expression_space.simplify(('atan', 'tan', 'x2'))\n",
    "print(expression)\n",
    "assert expression == ('atan', 'tan', 'x2')"
   ]
  },
  {
   "cell_type": "code",
   "execution_count": 28,
   "metadata": {},
   "outputs": [
    {
     "name": "stdout",
     "output_type": "stream",
     "text": [
      "('-', '<num>', 'x1')\n"
     ]
    }
   ],
   "source": [
    "expression = pool.expression_space.simplify(('-', '<num>', '+', '<num>', 'x1'))\n",
    "print(expression)\n",
    "assert expression == ('-', '<num>', 'x1')"
   ]
  },
  {
   "cell_type": "code",
   "execution_count": 29,
   "metadata": {},
   "outputs": [
    {
     "name": "stdout",
     "output_type": "stream",
     "text": [
      "('-', '<num>', '+', 'x1', 'x2')\n"
     ]
    }
   ],
   "source": [
    "expression = pool.expression_space.simplify(('-', '<num>', '+', '<num>', '+', '+', 'x1', 'x2', '<num>'))\n",
    "print(expression)\n",
    "assert expression == ('-', '<num>', '+', 'x1', 'x2')"
   ]
  },
  {
   "cell_type": "code",
   "execution_count": 30,
   "metadata": {},
   "outputs": [
    {
     "data": {
      "text/plain": [
       "False"
      ]
     },
     "execution_count": 30,
     "metadata": {},
     "output_type": "execute_result"
    }
   ],
   "source": [
    "x = np.random.normal(0, 5, 1024)\n",
    "np.allclose(np.atan(np.tan(x)), x)"
   ]
  },
  {
   "cell_type": "code",
   "execution_count": 31,
   "metadata": {},
   "outputs": [],
   "source": [
    "N_SAMPLES = 10_000"
   ]
  },
  {
   "cell_type": "code",
   "execution_count": 32,
   "metadata": {},
   "outputs": [
    {
     "name": "stderr",
     "output_type": "stream",
     "text": [
      "100%|██████████| 10000/10000 [00:18<00:00, 540.16it/s]\n"
     ]
    }
   ],
   "source": [
    "simplified_skeletons = {}\n",
    "simplification_times = {}\n",
    "\n",
    "pbar = tqdm(total=N_SAMPLES, smoothing=0)\n",
    "while len(simplified_skeletons) < N_SAMPLES:\n",
    "    skeleton, _, _ = pool.sample_skeleton()\n",
    "\n",
    "    if skeleton in simplified_skeletons:\n",
    "        continue\n",
    "    # pbar.set_postfix_str(f'{len(skeleton)}: {skeleton}')\n",
    "\n",
    "    try:\n",
    "        original_time_1 = time.time()\n",
    "        original_simplified = original_space.simplify(skeleton, max_iter=5)\n",
    "        original_time_2 = time.time()\n",
    "\n",
    "        auto_time1 = time.time()\n",
    "        auto_simplified = pool.expression_space.simplify(skeleton, max_iter=5)\n",
    "        auto_time2 = time.time()\n",
    "\n",
    "        simplified_skeletons[skeleton] = {\n",
    "            'original': original_simplified,\n",
    "            'auto': auto_simplified,\n",
    "        }\n",
    "        simplification_times[skeleton] = {\n",
    "            'original': original_time_2 - original_time_1,\n",
    "            'auto': auto_time2 - auto_time1,\n",
    "        }\n",
    "\n",
    "    except (IndexError, ValueError):\n",
    "        continue\n",
    "\n",
    "    pbar.update(1)\n",
    "\n",
    "pbar.close()"
   ]
  },
  {
   "cell_type": "code",
   "execution_count": 33,
   "metadata": {},
   "outputs": [
    {
     "name": "stdout",
     "output_type": "stream",
     "text": [
      "('*', 'x3', '/', '<num>', '+', 'x2', '-', '+', '+', 'log', '-', 'x1', 'x1', '<num>', '+', 'x3', '<num>', '-', 'pow1_3', 'x1', 'x2')\n",
      "('<num>',)\n",
      "['/', 'x3', '+', '<num>', '+', '<num>', '+', 'x2', '+', 'x2', '-', 'x3', 'pow1_3', 'x1']\n",
      "\n",
      "('/', '+', 'log', '*', 'x1', '-', '-', 'x2', '-', 'x2', 'x3', 'x3', '<num>', 'exp', '*', '/', '+', '<num>', '/', 'x2', 'x2', '*', 'x1', 'x1', '/', '+', 'x3', '<num>', '<num>')\n",
      "('<num>',)\n",
      "['/', '+', '<num>', 'log', 'neg', '*', 'x1', '+', 'x3', 'x3', 'exp', '*', '<num>', '/', '+', '<num>', 'x3', 'pow2', 'x1']\n",
      "\n",
      "('-', '-', '+', 'x3', '/', '*', '<num>', 'x1', 'pow1_2', '*', '+', '<num>', '*', '<num>', '-', 'x1', 'x3', 'x2', 'x3', '-', 'log', '-', 'x3', 'x3', 'asin', 'x2')\n",
      "('<num>',)\n",
      "['+', 'asin', 'x2', '-', '*', '<num>', '/', 'x1', 'pow1_2', '*', 'x2', '+', '<num>', '*', '<num>', '-', 'x1', 'x3', '<num>']\n",
      "\n",
      "('+', 'x1', '/', 'exp', '+', '-', '*', '*', 'exp', 'x1', '*', 'x1', 'log', 'tan', 'x2', 'pow1_3', '+', '+', 'x2', 'x2', 'x3', 'x1', 'x1', '-', 'x3', 'x3')\n",
      "('<num>',)\n",
      "['+', 'x1', '/', 'exp', '*', 'x1', '*', 'exp', 'x1', '*', 'log', 'tan', 'x2', 'pow1_3', '+', 'x2', '+', 'x2', 'x3', '<num>']\n",
      "\n",
      "('+', '+', '-', '/', '<num>', '*', '-', 'x3', 'x3', 'inv', '<num>', 'x1', '*', '/', 'x3', '/', 'x3', 'log', 'x1', 'pow1_3', '+', '*', 'x3', 'x1', '-', 'x3', 'x2', 'x3')\n",
      "('<num>',)\n",
      "['+', 'x3', '+', '-', '<num>', 'x1', '/', 'pow1_3', '+', 'x3', '-', '*', 'x1', 'x3', 'x2', 'log', 'x1']\n",
      "\n",
      "('/', '/', 'x3', 'atan', '<num>', '*', 'x1', '/', 'x3', 'div4', 'x1')\n",
      "('<num>',)\n",
      "['/', '/', 'x3', '<num>', '*', 'x1', '/', 'x3', '<num>', 'x1']\n",
      "\n",
      "('/', '<num>', '/', '*', '/', 'x3', 'abs', '*', 'x2', 'x1', '+', '*', 'x1', '-', 'tan', 'x2', 'neg', '<num>', 'x2', '-', 'x2', 'x2')\n",
      "('<num>',)\n",
      "['/', '<num>', '*', '/', 'x3', 'abs', '*', 'x1', 'x2', '/', '+', 'x2', '*', 'x1', '-', 'tan', 'x2', '<num>', '<num>']\n",
      "\n",
      "('-', 'inv', '-', 'x1', 'x1', '+', '*', 'abs', 'log', 'pow1_4', 'x3', 'x3', 'x1')\n",
      "('<num>',)\n",
      "['-', '<num>', '+', 'x1', '*', 'x3', 'abs', 'log', 'pow1_4', 'x3']\n",
      "\n",
      "('/', 'neg', '/', '<num>', 'x2', '+', '/', '<num>', 'mult2', '*', 'x1', '-', 'x2', 'x2', '<num>')\n",
      "('<num>',)\n",
      "['neg', '/', '<num>', 'x2', '<num>']\n",
      "\n",
      "('sin', 'div4', 'sin', '/', 'x2', '+', 'x2', 'x2')\n",
      "('<num>',)\n",
      "['<num>', 'sin', 'inv', 'x2']\n",
      "\n"
     ]
    }
   ],
   "source": [
    "max_i = 10\n",
    "i = 0\n",
    "for original, simplified in simplified_skeletons.items():\n",
    "    if len(simplified['auto']) == 1:\n",
    "        print(original)\n",
    "        print(simplified['auto'])\n",
    "        print(simplified['original'])\n",
    "        print()\n",
    "        i += 1\n",
    "        if i >= max_i:\n",
    "            break"
   ]
  },
  {
   "cell_type": "code",
   "execution_count": 34,
   "metadata": {},
   "outputs": [
    {
     "name": "stdout",
     "output_type": "stream",
     "text": [
      "('+', 'x2', '+', '-', '+', '<num>', 'x2', 'x3', 'neg', 'cos', '/', '*', 'tan', 'sin', '<num>', 'x3', '<num>')\n",
      "('+', 'mult2', 'x2', '-', '-', '<num>', 'x3', 'cos', '*', '<num>', 'x3')\n",
      "['+', '<num>', '+', 'x2', '-', '-', 'x2', 'x3', 'cos', 'x3']\n",
      "\n",
      "('*', 'asin', '/', '*', '<num>', '/', 'x3', '<num>', '*', '+', '+', 'pow2', 'neg', '<num>', 'x1', '*', 'x1', '-', 'x2', '<num>', '-', '/', 'x2', 'x1', 'x2', '<num>')\n",
      "('*', '<num>', 'asin', '/', '*', '<num>', 'x3', '*', '-', '/', 'x2', 'x1', 'x2', '+', '<num>', '+', 'x1', '*', 'x1', '-', 'x2', '<num>')\n",
      "['*', '<num>', 'asin', '/', 'x3', '*', '-', '/', 'x2', 'x1', 'x2', '+', '<num>', '+', 'x1', '*', 'x1', '-', 'x2', '<num>']\n",
      "\n",
      "('+', '/', 'pow2', 'x1', 'neg', '+', 'x3', 'tan', '-', '+', 'inv', 'x2', '<num>', 'x2', '*', 'x1', '*', '*', 'x2', '<num>', 'x2')\n",
      "('+', '*', '<num>', '*', 'x1', 'pow2', 'x2', '/', 'pow2', 'x1', 'neg', '+', 'x3', 'tan', '-', '+', '<num>', 'inv', 'x2', 'x2')\n",
      "['-', '*', '<num>', '*', 'x1', 'pow2', 'x2', '/', 'pow2', 'x1', '+', 'x3', 'tan', '+', '<num>', '-', 'inv', 'x2', 'x2']\n",
      "\n",
      "('+', '*', '-', 'pow4', '<num>', 'x1', '-', '<num>', '+', '<num>', 'x3', 'sin', 'tan', 'pow2', 'x1')\n",
      "('+', 'sin', 'tan', 'pow2', 'x1', '*', '-', '<num>', 'x1', '-', '<num>', 'x3')\n",
      "['+', 'sin', 'tan', 'pow2', 'x1', '*', 'x3', '-', 'x1', '<num>']\n",
      "\n",
      "('-', '*', 'x1', '*', 'sin', 'x2', 'x3', '*', '+', '+', '<num>', 'x1', '<num>', '/', '+', 'x2', '-', 'x3', 'x3', '<num>')\n",
      "('-', '*', 'x1', '*', 'x3', 'sin', 'x2', '*', '+', '<num>', 'x1', '/', 'x2', '<num>')\n",
      "['*', 'x1', '*', 'x3', 'sin', 'x2']\n",
      "\n",
      "('+', '<num>', '/', 'pow1_3', '*', '+', 'neg', 'sin', '<num>', 'mult5', 'x2', 'x1', '*', 'x2', '/', 'neg', 'pow1_5', '*', 'x2', 'x1', 'x3')\n",
      "('+', '<num>', '/', 'pow1_3', '*', 'x1', '+', '<num>', 'mult5', 'x2', '*', 'x2', '/', 'neg', 'pow1_5', '*', 'x1', 'x2', 'x3')\n",
      "['+', '<num>', '/', 'pow1_3', '*', '<num>', 'x2', 'x1', 'neg', '*', 'x2', '/', 'pow1_5', '*', 'x1', 'x2', 'x3']\n",
      "\n",
      "('+', 'x3', '-', 'x2', '*', '*', '+', '-', '+', 'x2', '+', 'x3', '<num>', '<num>', '*', 'x3', 'x3', '/', '*', '<num>', '-', 'x3', 'x1', 'x1', 'x2')\n",
      "('+', 'x3', '-', 'x2', '*', 'x2', '*', '/', '*', '<num>', '-', 'x3', 'x1', 'x1', '+', '<num>', '+', 'x2', '+', 'x3', 'pow2', 'x3')\n",
      "['+', 'x2', '-', 'x3', '*', '<num>', '*', 'x2', '*', '/', '-', 'x3', 'x1', 'x1', '+', 'x2', '+', 'x3', 'pow2', 'x3']\n",
      "\n",
      "('/', '*', '*', '*', '+', '*', 'mult4', '<num>', '<num>', 'x1', 'x2', '+', 'inv', '+', '*', 'x3', 'log', '<num>', 'acos', '/', 'pow1_2', 'x2', '<num>', 'x2', 'x2', 'x2')\n",
      "('*', 'x2', '*', '+', '<num>', 'x1', '+', 'x2', 'inv', '+', '*', '<num>', 'x3', 'acos', '/', 'pow1_2', 'x2', '<num>')\n",
      "['*', '<num>', '*', 'x1', '+', 'x2', 'inv', '+', '*', '<num>', 'x3', 'acos', '/', 'pow1_2', 'x2', '<num>', 'x2']\n",
      "\n",
      "('inv', '*', 'x1', '+', '+', 'x1', '/', 'div5', 'asin', 'x1', 'log', 'mult2', 'pow1_3', 'x2', '+', '*', '/', '-', '<num>', 'x1', 'pow1_2', 'x2', 'x2', '<num>')\n",
      "('inv', '*', 'x1', '+', '<num>', '+', 'x1', '+', '*', 'x2', '/', '-', '<num>', 'x1', 'pow1_2', 'x2', '/', 'div5', 'asin', 'x1', 'log', 'mult2', 'pow1_3', 'x2')\n",
      "['inv', '*', 'x1', '+', '<num>', '+', 'x1', '/', '<num>', 'asin', 'x1', 'pow1_3', 'x2', '+', '<num>', '*', 'x2', '/', '-', '<num>', 'x1', 'pow1_2', 'x2']\n",
      "\n",
      "('*', '-', '<num>', 'x3', '/', '+', 'x2', '/', 'mult2', 'x3', '+', '<num>', 'tan', 'pow2', 'x1', '-', 'x1', 'inv', '*', '+', 'x1', '<num>', 'neg', '*', 'x2', 'x2')\n",
      "('*', '-', '<num>', 'x3', '/', '+', 'x2', '/', 'mult2', 'x3', '+', '<num>', 'tan', 'pow2', 'x1', '-', 'x1', 'inv', '*', '+', '<num>', 'x1', 'neg', 'pow2', 'x2')\n",
      "['*', '-', '<num>', 'x3', '/', '+', 'x2', '/', '<num>', 'x3', '+', '<num>', 'tan', 'pow2', 'x1', '+', 'x1', 'inv', '*', 'pow2', 'x2', '+', '<num>', 'x1']\n",
      "\n"
     ]
    }
   ],
   "source": [
    "max_i = 10\n",
    "i = 0\n",
    "for original, simplified in simplified_skeletons.items():\n",
    "    if len(simplified['auto']) > len(simplified['original']) and random.random() < 0.5:\n",
    "        print(original)\n",
    "        print(simplified['auto'])\n",
    "        print(simplified['original'])\n",
    "        print()\n",
    "        i += 1\n",
    "        if i >= max_i:\n",
    "            break"
   ]
  },
  {
   "cell_type": "code",
   "execution_count": 35,
   "metadata": {},
   "outputs": [],
   "source": [
    "min_length, max_length = np.inf, -np.inf\n",
    "for k, v in simplified_skeletons.items():\n",
    "    min_length = np.min([min_length, len(k)] + [len(vi) for vi in v.values() if vi is not None])\n",
    "    max_length = np.max([max_length, len(k)] + [len(vi) for vi in v.values() if vi is not None])"
   ]
  },
  {
   "cell_type": "code",
   "execution_count": 36,
   "metadata": {},
   "outputs": [
    {
     "data": {
      "image/png": "[encoded data removed]",
      "text/plain": [
       "<Figure size 1800x800 with 2 Axes>"
      ]
     },
     "metadata": {},
     "output_type": "display_data"
    }
   ],
   "source": [
    "fig, axes = plt.subplots(1, 2, figsize=(9, 4), dpi=200)\n",
    "\n",
    "axes = np.atleast_1d(axes)\n",
    "\n",
    "raw_bins = np.arange(min_length, 31)\n",
    "simplified_bins = np.arange(min_length, 48)\n",
    "\n",
    "vmin, vmax = np.inf, -np.inf\n",
    "\n",
    "for method in ['auto', 'original']:\n",
    "    original_lengths = np.array([len(k) for k in simplified_skeletons.keys()])\n",
    "    simplified_lengths = np.array([np.nan if v[method] is None else len(v[method]) for v in simplified_skeletons.values()])\n",
    "    valid_mask = ~np.isnan(simplified_lengths)\n",
    "    h = np.histogram2d(original_lengths[valid_mask], simplified_lengths[valid_mask], bins=[raw_bins, simplified_bins]);\n",
    "    vmin = min(vmin, h[0].min())\n",
    "    vmax = max(vmax, h[0].max())\n",
    "\n",
    "for ax, method, name in zip(axes, ['auto', 'original'], ['Auto', 'Manual']):\n",
    "    original_lengths = np.array([len(k) for k in simplified_skeletons.keys()])\n",
    "    simplified_lengths = np.array([np.nan if v[method] is None else len(v[method]) for v in simplified_skeletons.values()])\n",
    "    valid_mask = ~np.isnan(simplified_lengths)\n",
    "\n",
    "    ax.hist2d(original_lengths[valid_mask], simplified_lengths[valid_mask], bins=[raw_bins, simplified_bins], cmap='viridis', vmin=vmin, vmax=vmax, linewidth=0, rasterized=True);\n",
    "    ax.set_xlabel('Raw Length')\n",
    "    if method == 'custom':\n",
    "        ax.set_ylabel(f'Simplified Length\\n$\\\\leftarrow$')\n",
    "    ax.set_title(name)\n",
    "    ax.grid(color='white', alpha=0.1)\n",
    "    # ax.set_aspect('equal', adjustable='box')\n",
    "\n",
    "    ax.set_xticks(np.arange(0, max_length + 1, 10))\n",
    "    ax.set_yticks(np.arange(0, max_length + 1, 10))\n",
    "\n",
    "    ax.set_facecolor(plt.get_cmap('viridis')(0))\n",
    "\n",
    "    ax.set_xlim(*raw_bins[[0, -1]])\n",
    "    ax.set_ylim(*simplified_bins[[0, -1]])\n",
    "\n",
    "    # Equal aspect ratio\n",
    "    ax.set_aspect('equal', adjustable='box')\n",
    "\n",
    "    # Draw a line that shows the median simplified length for each raw length\n",
    "    x_list = []\n",
    "    y_list = []\n",
    "    y_upper_list = []\n",
    "    y_lower_list = []\n",
    "    for i in range(len(raw_bins) - 1):\n",
    "        raw_mask = (original_lengths >= raw_bins[i]) & (original_lengths < raw_bins[i + 1])\n",
    "        if np.any(raw_mask):\n",
    "            statistic, lower, upper = bootstrapped_metric_ci(simplified_lengths[raw_mask], np.nanmean)\n",
    "            x_list.append((raw_bins[i] + raw_bins[i + 1]) / 2)\n",
    "            y_list.append(statistic)\n",
    "            y_upper_list.append(upper)\n",
    "            y_lower_list.append(lower)\n",
    "    ax.scatter(x_list, y_list, color='w', s=1)\n",
    "    for x, y, y_upper, y_lower in zip(x_list, y_list, y_upper_list, y_lower_list):\n",
    "        ax.plot([x, x], [y_lower, y_upper], color='w', lw=0.5)\n",
    "    # Draw a diagonal\n",
    "    ax.plot([1, max_length], [1, max_length], color='white', lw=1, ls='--', alpha=0.5)\n",
    "\n",
    "# # Show the flash.png image next to the ANSR header\n",
    "# flash = plt.imread(get_path('assets', 'flash.png'))\n",
    "\n",
    "# # Create a new image with the flash.png image\n",
    "# # Apparently there is no feasable way to write emojis in matplotlib WTF?!\n",
    "# ax_image = fig.add_axes([0.195, 0.925, 0.04, 0.04], anchor='NE', zorder=10)\n",
    "# ax_image.imshow(flash)\n",
    "# ax_image.axis('off')\n",
    "\n",
    "fig.tight_layout(w_pad=-8)\n",
    "# plt.savefig(get_path('results', 'simplification', filename='length_custom_vs_sympy_10k_unique.svg', create=True), bbox_inches='tight')"
   ]
  },
  {
   "cell_type": "code",
   "execution_count": 40,
   "metadata": {},
   "outputs": [
    {
     "data": {
      "image/png": "[encoded data removed]",
      "text/plain": [
       "<Figure size 1800x800 with 2 Axes>"
      ]
     },
     "metadata": {},
     "output_type": "display_data"
    }
   ],
   "source": [
    "fig, axes = plt.subplots(1, 2, figsize=(9, 4), dpi=200)\n",
    "\n",
    "axes = np.atleast_1d(axes)\n",
    "\n",
    "raw_bins = np.arange(min_length, 31)\n",
    "simplified_bins = np.arange(-15, 1)\n",
    "\n",
    "vmin, vmax = np.inf, -np.inf\n",
    "\n",
    "for method in ['auto', 'original']:\n",
    "    original_lengths = np.array([len(k) for k in simplified_skeletons.keys()])\n",
    "    simplified_lengths = np.array([np.nan if v[method] is None else len(v[method]) for v in simplified_skeletons.values()])\n",
    "    length_difference = simplified_lengths - original_lengths\n",
    "    valid_mask = ~np.isnan(length_difference)\n",
    "    h = np.histogram2d(original_lengths[valid_mask], length_difference[valid_mask], bins=[raw_bins, simplified_bins]);\n",
    "    vmin = min(vmin, h[0].min())\n",
    "    vmax = max(vmax, h[0].max())\n",
    "\n",
    "for ax, method, name in zip(axes, ['auto', 'original'], ['Auto', 'Manual']):\n",
    "    original_lengths = np.array([len(k) for k in simplified_skeletons.keys()])\n",
    "    simplified_lengths = np.array([np.nan if v[method] is None else len(v[method]) for v in simplified_skeletons.values()])\n",
    "    length_difference = simplified_lengths - original_lengths\n",
    "    valid_mask = ~np.isnan(length_difference)\n",
    "\n",
    "    ax.hist2d(original_lengths[valid_mask], length_difference[valid_mask], bins=[raw_bins, simplified_bins], cmap='viridis', vmin=vmin, vmax=vmax, linewidth=0, rasterized=True);\n",
    "    ax.set_xlabel('Raw Length')\n",
    "    if method == 'custom':\n",
    "        ax.set_ylabel(f'Simplified Length\\n$\\\\leftarrow$')\n",
    "    ax.set_title(name)\n",
    "    ax.grid(color='white', alpha=0.1)\n",
    "    # ax.set_aspect('equal', adjustable='box')\n",
    "\n",
    "    ax.set_xticks(np.arange(0, max_length + 1, 10))\n",
    "    ax.set_yticks(np.arange(-15, 1, 10))\n",
    "\n",
    "    ax.set_facecolor(plt.get_cmap('viridis')(0))\n",
    "\n",
    "    ax.set_xlim(*raw_bins[[0, -1]])\n",
    "    ax.set_ylim(*simplified_bins[[0, -1]])\n",
    "\n",
    "    # Equal aspect ratio\n",
    "    ax.set_aspect('equal', adjustable='box')\n",
    "\n",
    "    # Draw a line that shows the median simplified length for each raw length\n",
    "    x_list = []\n",
    "    y_list = []\n",
    "    y_upper_list = []\n",
    "    y_lower_list = []\n",
    "    for i in range(len(raw_bins) - 1):\n",
    "        raw_mask = (original_lengths >= raw_bins[i]) & (original_lengths < raw_bins[i + 1])\n",
    "        if np.any(raw_mask):\n",
    "            statistic, lower, upper = bootstrapped_metric_ci(length_difference[raw_mask], np.nanmean)\n",
    "            x_list.append((raw_bins[i] + raw_bins[i + 1]) / 2)\n",
    "            y_list.append(statistic)\n",
    "            y_upper_list.append(upper)\n",
    "            y_lower_list.append(lower)\n",
    "    ax.scatter(x_list, y_list, color='w', s=1)\n",
    "    for x, y, y_upper, y_lower in zip(x_list, y_list, y_upper_list, y_lower_list):\n",
    "        ax.plot([x, x], [y_lower, y_upper], color='w', lw=0.5)\n",
    "    # Draw a diagonal\n",
    "    ax.plot([1, max_length], [1, max_length], color='white', lw=1, ls='--', alpha=0.5)\n",
    "\n",
    "# # Show the flash.png image next to the ANSR header\n",
    "# flash = plt.imread(get_path('assets', 'flash.png'))\n",
    "\n",
    "# # Create a new image with the flash.png image\n",
    "# # Apparently there is no feasable way to write emojis in matplotlib WTF?!\n",
    "# ax_image = fig.add_axes([0.195, 0.925, 0.04, 0.04], anchor='NE', zorder=10)\n",
    "# ax_image.imshow(flash)\n",
    "# ax_image.axis('off')\n",
    "\n",
    "# fig.tight_layout(w_pad=-8)\n",
    "# plt.savefig(get_path('results', 'simplification', filename='length_custom_vs_sympy_10k_unique.svg', create=True), bbox_inches='tight')"
   ]
  },
  {
   "cell_type": "code",
   "execution_count": 38,
   "metadata": {},
   "outputs": [
    {
     "data": {
      "text/plain": [
       "Text(0.5, 1.0, 'Auto')"
      ]
     },
     "execution_count": 38,
     "metadata": {},
     "output_type": "execute_result"
    },
    {
     "data": {
      "image/png": "[encoded data removed]",
      "text/plain": [
       "<Figure size 800x800 with 1 Axes>"
      ]
     },
     "metadata": {},
     "output_type": "display_data"
    }
   ],
   "source": [
    "# Show the ratios of the simplified lengths\n",
    "ratios = []\n",
    "for k, v in simplified_skeletons.items():\n",
    "    if v['auto'] is not None:\n",
    "        ratios.append(len(v['auto']) / len(k))\n",
    "ratios = np.array(ratios)\n",
    "\n",
    "fig, ax = plt.subplots(1, 1, figsize=(4, 4), dpi=200)\n",
    "ax.hist(ratios, bins=np.linspace(0, 1, 21), color='C0', edgecolor='black')\n",
    "ax.set_xlabel('Simplified Length / Raw Length')\n",
    "ax.set_ylabel('Count')\n",
    "ax.set_title('Auto')"
   ]
  },
  {
   "cell_type": "code",
   "execution_count": 39,
   "metadata": {},
   "outputs": [
    {
     "data": {
      "image/png": "[encoded data removed]",
      "text/plain": [
       "<Figure size 1000x600 with 2 Axes>"
      ]
     },
     "metadata": {},
     "output_type": "display_data"
    }
   ],
   "source": [
    "# Show simplification times\n",
    "auto_times = np.array([v['auto'] for v in simplification_times.values()])\n",
    "\n",
    "fig, ax = plt.subplots(1, 1, figsize=(5, 3), dpi=200)\n",
    "\n",
    "bins=np.linspace(-4.5, 0, 100)\n",
    "\n",
    "ax.hist(np.log10(auto_times), bins=bins, alpha=0.7, label='   ANSR', color='tab:blue', zorder=3, linewidth=0, rasterized=True);\n",
    "\n",
    "# Same thing but only outline\n",
    "ax.hist(np.log10(auto_times), bins=bins, zorder=2, histtype='step', edgecolor='k', linewidth=0.5)\n",
    "\n",
    "\n",
    "# Show the flash.png image next to the ANSR header\n",
    "flash = plt.imread(get_path('assets', 'flash.png'))\n",
    "\n",
    "# Create a new image with the flash.png image\n",
    "# Apparently there is no feasable way to write emojis in matplotlib WTF?!\n",
    "ax_image = fig.add_axes([0.675, 0.80, 0.04, 0.04], anchor='NE', zorder=10)\n",
    "ax_image.imshow(flash)\n",
    "ax_image.axis('off')\n",
    "\n",
    "\n",
    "ax.set_xticks(np.arange(-5, 1))\n",
    "labels = [f'$10^{{{i}}}$' for i in np.arange(-5, 1)]\n",
    "labels[-2] = '0.1'\n",
    "labels[-1] = '1'\n",
    "ax.set_xticklabels(labels)\n",
    "\n",
    "ax.set_xlabel('Simplification Wall Time [s] $ \\\\downarrow $')\n",
    "ax.set_ylabel('Count')\n",
    "ax.legend();\n",
    "ax.grid(alpha=0.5, zorder=0)\n",
    "# plt.savefig(get_path('results', 'simplification', filename='simplification_times_auto_vs_sympy_10k_unique.svg', create=True), bbox_inches='tight')"
   ]
  }
 ],
 "metadata": {
  "kernelspec": {
   "display_name": "flash-ansr",
   "language": "python",
   "name": "python3"
  },
  "language_info": {
   "codemirror_mode": {
    "name": "ipython",
    "version": 3
   },
   "file_extension": ".py",
   "mimetype": "text/x-python",
   "name": "python",
   "nbconvert_exporter": "python",
   "pygments_lexer": "ipython3",
   "version": "3.11.10"
  }
 },
 "nbformat": 4,
 "nbformat_minor": 2
}
