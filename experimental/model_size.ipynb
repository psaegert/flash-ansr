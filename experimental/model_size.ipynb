{
 "cells": [
  {
   "cell_type": "code",
   "execution_count": 4,
   "metadata": {},
   "outputs": [],
   "source": [
    "from flash_ansr import FlashANSRTransformer, get_path"
   ]
  },
  {
   "cell_type": "code",
   "execution_count": 15,
   "metadata": {},
   "outputs": [
    {
     "name": "stdout",
     "output_type": "stream",
     "text": [
      "Encoder: 133,362,688\n",
      "Decoder: 126,025,728\n",
      "Total: 261,556,258\n"
     ]
    }
   ],
   "source": [
    "nsr = FlashANSRTransformer.from_config(get_path('configs', 'v6.0-large', 'nsr.yaml'))\n",
    "print(f'Encoder: {sum(p.numel() for p in nsr.encoder.parameters() if p.requires_grad):,}')\n",
    "print(f'Decoder: {sum(p.numel() for p in nsr.decoder.parameters() if p.requires_grad):,}')\n",
    "print(f'Total: {nsr.n_params:,}')"
   ]
  },
  {
   "cell_type": "code",
   "execution_count": null,
   "metadata": {},
   "outputs": [
    {
     "name": "stdout",
     "output_type": "stream",
     "text": [
      "Encoder: 1,321,920\n",
      "Decoder: 1,115,136\n",
      "Total: 2,524,066\n"
     ]
    }
   ],
   "source": [
    "nsr = FlashANSRTransformer.from_config(get_path('configs', 'v6.0-mini', 'nsr.yaml'))\n",
    "print(f'Encoder: {sum(p.numel() for p in nsr.encoder.parameters() if p.requires_grad):,}')\n",
    "print(f'Decoder: {sum(p.numel() for p in nsr.decoder.parameters() if p.requires_grad):,}')\n",
    "print(f'Total: {nsr.n_params:,}')"
   ]
  },
  {
   "cell_type": "code",
   "execution_count": 3,
   "metadata": {},
   "outputs": [
    {
     "name": "stdout",
     "output_type": "stream",
     "text": [
      "Encoder: 13,429,248\n",
      "Decoder: 13,148,160\n",
      "Total: 27,137,058\n"
     ]
    }
   ],
   "source": [
    "nsr = FlashANSRTransformer.from_config(get_path('configs', 'v6.0', 'nsr.yaml'))\n",
    "print(f'Encoder: {sum(p.numel() for p in nsr.encoder.parameters() if p.requires_grad):,}')\n",
    "print(f'Decoder: {sum(p.numel() for p in nsr.decoder.parameters() if p.requires_grad):,}')\n",
    "print(f'Total: {nsr.n_params:,}')"
   ]
  }
 ],
 "metadata": {
  "kernelspec": {
   "display_name": "flash-ansr",
   "language": "python",
   "name": "python3"
  },
  "language_info": {
   "codemirror_mode": {
    "name": "ipython",
    "version": 3
   },
   "file_extension": ".py",
   "mimetype": "text/x-python",
   "name": "python",
   "nbconvert_exporter": "python",
   "pygments_lexer": "ipython3",
   "version": "3.11.10"
  }
 },
 "nbformat": 4,
 "nbformat_minor": 2
}
