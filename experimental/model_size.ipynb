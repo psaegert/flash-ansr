{
 "cells": [
  {
   "cell_type": "code",
   "execution_count": 1,
   "metadata": {},
   "outputs": [],
   "source": [
    "from flash_ansr import FlashANSRTransformer, get_path"
   ]
  },
  {
   "cell_type": "code",
   "execution_count": 2,
   "metadata": {},
   "outputs": [
    {
     "name": "stdout",
     "output_type": "stream",
     "text": [
      "Encoder: 18,516,992\n",
      "Decoder: 18,407,424\n",
      "Total: 37,509,170\n"
     ]
    }
   ],
   "source": [
    "nsr = FlashANSRTransformer.from_config(get_path('configs', 'v14.0', 'nsr.yaml'))\n",
    "print(f'Encoder: {sum(p.numel() for p in nsr.encoder.parameters() if p.requires_grad):,}')\n",
    "print(f'Decoder: {sum(p.numel() for p in nsr.decoder.parameters() if p.requires_grad):,}')\n",
    "print(f'Total: {nsr.n_params:,}')"
   ]
  },
  {
   "cell_type": "code",
   "execution_count": null,
   "metadata": {},
   "outputs": [
    {
     "name": "stdout",
     "output_type": "stream",
     "text": [
      "Encoder: 11,150,848\n",
      "Decoder: 15,826,944\n",
      "Total: 27,126,562\n"
     ]
    }
   ],
   "source": [
    "nsr = FlashANSRTransformer.from_config(get_path('configs', 'v7.21', 'nsr.yaml'))\n",
    "print(f'Encoder: {sum(p.numel() for p in nsr.encoder.parameters() if p.requires_grad):,}')\n",
    "print(f'Decoder: {sum(p.numel() for p in nsr.decoder.parameters() if p.requires_grad):,}')\n",
    "print(f'Total: {nsr.n_params:,}')"
   ]
  }
 ],
 "metadata": {
  "kernelspec": {
   "display_name": "flash-ansr",
   "language": "python",
   "name": "python3"
  },
  "language_info": {
   "codemirror_mode": {
    "name": "ipython",
    "version": 3
   },
   "file_extension": ".py",
   "mimetype": "text/x-python",
   "name": "python",
   "nbconvert_exporter": "python",
   "pygments_lexer": "ipython3",
   "version": "3.11.10"
  }
 },
 "nbformat": 4,
 "nbformat_minor": 2
}
