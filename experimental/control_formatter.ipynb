{
 "cells": [
  {
   "cell_type": "code",
   "execution_count": 1,
   "metadata": {},
   "outputs": [],
   "source": [
    "from flash_ansr.control import FlashASNRPreprocessor\n",
    "from flash_ansr import FlashANSRDataset, get_path, Tokenizer"
   ]
  },
  {
   "cell_type": "code",
   "execution_count": 2,
   "metadata": {},
   "outputs": [
    {
     "name": "stderr",
     "output_type": "stream",
     "text": [
      "Compiling Skeletons: 100%|██████████| 200/200 [00:00<00:00, 46348.46it/s]\n",
      "Compiling Skeletons: 100%|██████████| 43/43 [00:00<00:00, 40547.45it/s]\n",
      "Compiling Skeletons: 100%|██████████| 10/10 [00:00<00:00, 28339.89it/s]\n",
      "Compiling Skeletons: 100%|██████████| 4999/4999 [00:00<00:00, 25815.19it/s]\n"
     ]
    }
   ],
   "source": [
    "dataset = FlashANSRDataset.from_config(get_path('configs', 'v9.0', 'dataset_val.yaml'))"
   ]
  },
  {
   "cell_type": "code",
   "execution_count": null,
   "metadata": {},
   "outputs": [
    {
     "name": "stdout",
     "output_type": "stream",
     "text": [
      "tensor([[ 1, 12, 31, 11, 13, 33,  8,  6, 24, 32,  2]])\n",
      "['<bos>', '/', 'x1', '*', 'abs', 'x3', '+', '<num>', 'cos', 'x2', '<eos>']\n",
      "[None]\n",
      "tensor([[nan, nan, nan, nan, nan, nan, nan, nan, nan, nan, nan]])\n",
      "\n",
      "tensor([[ 7,  6,  1, 13,  9, 31, 11,  6, 11, 31, 11, 31,  9, 23,  9, 24, 33, 32,\n",
      "         32,  2]])\n",
      "['<ctrl_complexity>', '<num>', '<bos>', 'abs', '-', 'x1', '*', '<num>', '*', 'x1', '*', 'x1', '-', 'sin', '-', 'cos', 'x3', 'x2', 'x2', '<eos>']\n",
      "[tensor(18.)]\n",
      "tensor([[nan, 18., nan, nan, nan, nan, nan, nan, nan, nan, nan, nan, nan, nan,\n",
      "         nan, nan, nan, nan, nan, nan]])\n",
      "\n",
      "tensor([[ 7,  6,  1, 12,  9, 11,  9, 31, 33,  8,  6,  8,  6,  9,  6, 32,  8, 31,\n",
      "         32, 11,  6, 31,  2]])\n",
      "['<ctrl_complexity>', '<num>', '<bos>', '/', '-', '*', '-', 'x1', 'x3', '+', '<num>', '+', '<num>', '-', '<num>', 'x2', '+', 'x1', 'x2', '*', '<num>', 'x1', '<eos>']\n",
      "[tensor(21.)]\n",
      "tensor([[nan, 21., nan, nan, nan, nan, nan, nan, nan, nan, nan, nan, nan, nan,\n",
      "         nan, nan, nan, nan, nan, nan, nan, nan, nan]])\n",
      "\n",
      "tensor([[ 1,  9, 14, 11,  6, 11, 32,  8,  6, 11,  6, 31,  8,  6, 16, 32,  2]])\n",
      "['<bos>', '-', 'inv', '*', '<num>', '*', 'x2', '+', '<num>', '*', '<num>', 'x1', '+', '<num>', 'pow3', 'x2', '<eos>']\n",
      "[None]\n",
      "tensor([[nan, nan, nan, nan, nan, nan, nan, nan, nan, nan, nan, nan, nan, nan, nan, nan, nan]])\n",
      "\n",
      "tensor([[ 1,  8, 32,  8,  9, 31, 33, 11,  6, 12,  6, 33,  2]])\n",
      "['<bos>', '+', 'x2', '+', '-', 'x1', 'x3', '*', '<num>', '/', '<num>', 'x3', '<eos>']\n",
      "[None]\n",
      "tensor([[nan, nan, nan, nan, nan, nan, nan, nan, nan, nan, nan, nan, nan]])\n",
      "\n"
     ]
    }
   ],
   "source": [
    "for batch in dataset.iterate(size=5, batch_size=1):\n",
    "    preprocessor.format(batch)\n",
    "    dataset.collate_batch(batch, device='cpu')\n",
    "    print(batch['input_ids'])\n",
    "    print(preprocessor.tokenizer.decode(batch['input_ids'][0]))\n",
    "    print(batch['complexities'])\n",
    "    print(batch['input_num'])\n",
    "    print()"
   ]
  }
 ],
 "metadata": {
  "kernelspec": {
   "display_name": "flash-ansr",
   "language": "python",
   "name": "python3"
  },
  "language_info": {
   "codemirror_mode": {
    "name": "ipython",
    "version": 3
   },
   "file_extension": ".py",
   "mimetype": "text/x-python",
   "name": "python",
   "nbconvert_exporter": "python",
   "pygments_lexer": "ipython3",
   "version": "3.11.10"
  }
 },
 "nbformat": 4,
 "nbformat_minor": 2
}
