{
 "cells": [
  {
   "cell_type": "code",
   "execution_count": 1,
   "metadata": {},
   "outputs": [],
   "source": [
    "from flash_ansr.control import ControlFormatter\n",
    "from flash_ansr import FlashANSRDataset, get_path, Tokenizer"
   ]
  },
  {
   "cell_type": "code",
   "execution_count": 2,
   "metadata": {},
   "outputs": [
    {
     "name": "stderr",
     "output_type": "stream",
     "text": [
      "Compiling Skeletons: 100%|██████████| 200/200 [00:00<00:00, 45729.44it/s]\n",
      "Compiling Skeletons: 100%|██████████| 43/43 [00:00<00:00, 41327.93it/s]\n",
      "Compiling Skeletons: 100%|██████████| 10/10 [00:00<00:00, 26903.81it/s]\n",
      "Compiling Skeletons: 100%|██████████| 4999/4999 [00:00<00:00, 25354.31it/s]\n"
     ]
    }
   ],
   "source": [
    "dataset = FlashANSRDataset.from_config(get_path('configs', 'v7.0', 'dataset_val.yaml'))"
   ]
  },
  {
   "cell_type": "code",
   "execution_count": 3,
   "metadata": {},
   "outputs": [],
   "source": [
    "formatter = ControlFormatter(\n",
    "    tokenizer=Tokenizer(\n",
    "        vocab=dataset.skeleton_pool.expression_space.operator_tokens + dataset.skeleton_pool.expression_space.variables,\n",
    "        special_tokens=[\"<pad>\", \"<bos>\", \"<eos>\", \"<unk>\", \"<cls>\", \"<mask>\", \"<num>\", \"<ctrl_complexity>\"]\n",
    "    ),\n",
    "    format_probs={'complexity': 0.5}\n",
    ")\n",
    "dataset.skeleton_pool.expression_space.tokenizer = formatter.tokenizer"
   ]
  },
  {
   "cell_type": "code",
   "execution_count": 5,
   "metadata": {},
   "outputs": [
    {
     "name": "stdout",
     "output_type": "stream",
     "text": [
      "tensor([[ 1,  8,  6,  8, 32, 11,  6,  9, 32, 12, 15, 31,  6,  2]])\n",
      "['<bos>', '+', '<num>', '+', 'x2', '*', '<num>', '-', 'x2', '/', 'pow2', 'x1', '<num>', '<eos>']\n",
      "[None]\n",
      "tensor([[nan, nan, nan, nan, nan, nan, nan, nan, nan, nan, nan, nan, nan, nan]])\n",
      "\n",
      "tensor([[ 1,  9, 33, 11, 31, 11, 32, 11, 33,  9,  9, 33, 32, 32,  2]])\n",
      "['<bos>', '-', 'x3', '*', 'x1', '*', 'x2', '*', 'x3', '-', '-', 'x3', 'x2', 'x2', '<eos>']\n",
      "[None]\n",
      "tensor([[nan, nan, nan, nan, nan, nan, nan, nan, nan, nan, nan, nan, nan, nan, nan]])\n",
      "\n",
      "tensor([[ 1, 12, 25, 12,  8,  6, 19, 33,  6, 15, 31,  2]])\n",
      "['<bos>', '/', 'tan', '/', '+', '<num>', 'pow1_2', 'x3', '<num>', 'pow2', 'x1', '<eos>']\n",
      "[None]\n",
      "tensor([[nan, nan, nan, nan, nan, nan, nan, nan, nan, nan, nan, nan]])\n",
      "\n",
      "tensor([[ 7,  6,  1,  8, 32, 11, 32, 12, 29, 11, 31, 33,  8, 31, 23,  9,  6, 31,\n",
      "          2]])\n",
      "['<ctrl_complexity>', '<num>', '<bos>', '+', 'x2', '*', 'x2', '/', 'exp', '*', 'x1', 'x3', '+', 'x1', 'sin', '-', '<num>', 'x1', '<eos>']\n",
      "[tensor(17.)]\n",
      "tensor([[nan, 17., nan, nan, nan, nan, nan, nan, nan, nan, nan, nan, nan, nan,\n",
      "         nan, nan, nan, nan, nan]])\n",
      "\n",
      "tensor([[ 7,  6,  1, 11,  6,  9, 11,  6, 11,  6, 31, 31,  2]])\n",
      "['<ctrl_complexity>', '<num>', '<bos>', '*', '<num>', '-', '*', '<num>', '*', '<num>', 'x1', 'x1', '<eos>']\n",
      "[tensor(11.)]\n",
      "tensor([[nan, 11., nan, nan, nan, nan, nan, nan, nan, nan, nan, nan, nan]])\n",
      "\n"
     ]
    }
   ],
   "source": [
    "for batch in dataset.iterate(size=5, batch_size=1):\n",
    "    formatter.format(batch)\n",
    "    dataset.collate_batch(batch, device='cpu')\n",
    "    print(batch['input_ids'])\n",
    "    print(formatter.tokenizer.decode(batch['input_ids'][0]))\n",
    "    print(batch['complexities'])\n",
    "    print(batch['input_num'])\n",
    "    print()"
   ]
  }
 ],
 "metadata": {
  "kernelspec": {
   "display_name": "flash-ansr",
   "language": "python",
   "name": "python3"
  },
  "language_info": {
   "codemirror_mode": {
    "name": "ipython",
    "version": 3
   },
   "file_extension": ".py",
   "mimetype": "text/x-python",
   "name": "python",
   "nbconvert_exporter": "python",
   "pygments_lexer": "ipython3",
   "version": "3.11.10"
  }
 },
 "nbformat": 4,
 "nbformat_minor": 2
}
