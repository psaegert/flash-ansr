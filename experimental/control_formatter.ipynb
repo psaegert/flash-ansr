{
 "cells": [
  {
   "cell_type": "code",
   "execution_count": 1,
   "metadata": {},
   "outputs": [],
   "source": [
    "from flash_ansr import FlashANSRDataset, get_path"
   ]
  },
  {
   "cell_type": "code",
   "execution_count": 2,
   "metadata": {},
   "outputs": [
    {
     "name": "stderr",
     "output_type": "stream",
     "text": [
      "Compiling Skeletons: 100%|██████████| 200/200 [00:00<00:00, 39919.14it/s]\n",
      "Compiling Skeletons: 100%|██████████| 43/43 [00:00<00:00, 38202.73it/s]\n",
      "Compiling Skeletons: 100%|██████████| 10/10 [00:00<00:00, 23458.08it/s]\n",
      "Compiling Skeletons: 100%|██████████| 4999/4999 [00:00<00:00, 26677.01it/s]\n"
     ]
    }
   ],
   "source": [
    "dataset = FlashANSRDataset.from_config(get_path('configs', 'v9.0', 'dataset_val.yaml'))"
   ]
  },
  {
   "cell_type": "code",
   "execution_count": 3,
   "metadata": {},
   "outputs": [
    {
     "name": "stdout",
     "output_type": "stream",
     "text": [
      "dict_keys(['n_rejected', 'skeletons', 'skeleton_hashes', 'expressions', 'constants', 'input_ids', 'x_tensors', 'y_tensors'])\n",
      "[[(1, 7)], []]\n",
      "tensor([[ 7,  6,  1, 11,  6, 12, 32, 33,  2,  0,  0,  0,  0],\n",
      "        [ 1,  9, 11,  6,  8, 31, 32,  8,  6, 21, 19, 32,  2]])\n",
      "['<ctrl_complexity>', '<num>', '<bos>', '*', '<num>', '/', 'x2', 'x3', '<eos>', '<pad>', '<pad>', '<pad>', '<pad>']\n",
      "[tensor(7.), None]\n",
      "tensor([[nan, 7., nan, nan, nan, nan, nan, nan, nan, nan, nan, nan, nan],\n",
      "        [nan, nan, nan, nan, nan, nan, nan, nan, nan, nan, nan, nan, nan]])\n",
      "\n",
      "dict_keys(['n_rejected', 'skeletons', 'skeleton_hashes', 'expressions', 'constants', 'input_ids', 'x_tensors', 'y_tensors'])\n",
      "[[], [(1, 7)]]\n",
      "tensor([[ 1,  9, 12,  6, 15, 31, 31,  2,  0],\n",
      "        [ 7,  6,  1, 10,  8, 33, 15, 31,  2]])\n",
      "['<bos>', '-', '/', '<num>', 'pow2', 'x1', 'x1', '<eos>', '<pad>']\n",
      "[None, tensor(7.)]\n",
      "tensor([[nan, nan, nan, nan, nan, nan, nan, nan, nan],\n",
      "        [nan, 7., nan, nan, nan, nan, nan, nan, nan]])\n",
      "\n"
     ]
    }
   ],
   "source": [
    "for batch in dataset.iterate(steps=2, batch_size=2, preprocess=True):\n",
    "    dataset.collate(batch, device='cpu')\n",
    "    print(batch['input_ids'])\n",
    "    print(dataset.expression_space.tokenizer.decode(batch['input_ids'][0]))\n",
    "    print(batch['complexities'])\n",
    "    print(batch['input_num'])\n",
    "    print()"
   ]
  },
  {
   "cell_type": "code",
   "execution_count": 4,
   "metadata": {},
   "outputs": [
    {
     "name": "stdout",
     "output_type": "stream",
     "text": [
      "dict_keys(['n_rejected', 'skeletons', 'skeleton_hashes', 'expressions', 'constants', 'input_ids', 'x_tensors', 'y_tensors'])\n",
      "[]\n",
      "tensor([ 1, 11,  6, 12, 24,  8, 33, 11, 32, 23, 33,  8, 31,  9, 32, 33,  2])\n",
      "['<bos>', '*', '<num>', '/', 'cos', '+', 'x3', '*', 'x2', 'sin', 'x3', '+', 'x1', '-', 'x2', 'x3', '<eos>']\n",
      "None\n",
      "tensor([nan, nan, nan, nan, nan, nan, nan, nan, nan, nan, nan, nan, nan, nan, nan, nan, nan])\n",
      "\n",
      "dict_keys(['n_rejected', 'skeletons', 'skeleton_hashes', 'expressions', 'constants', 'input_ids', 'x_tensors', 'y_tensors'])\n",
      "[]\n",
      "tensor([ 1, 14, 13,  8, 32,  8, 32,  8, 32,  8, 33,  8, 33, 14, 32,  2])\n",
      "['<bos>', 'inv', 'abs', '+', 'x2', '+', 'x2', '+', 'x2', '+', 'x3', '+', 'x3', 'inv', 'x2', '<eos>']\n",
      "None\n",
      "tensor([nan, nan, nan, nan, nan, nan, nan, nan, nan, nan, nan, nan, nan, nan, nan, nan])\n",
      "\n",
      "dict_keys(['n_rejected', 'skeletons', 'skeleton_hashes', 'expressions', 'constants', 'input_ids', 'x_tensors', 'y_tensors'])\n",
      "[(1, 11)]\n",
      "tensor([ 7,  6,  1, 14,  8,  6,  8, 32,  9, 33, 20, 32,  2])\n",
      "['<ctrl_complexity>', '<num>', '<bos>', 'inv', '+', '<num>', '+', 'x2', '-', 'x3', 'pow1_3', 'x2', '<eos>']\n",
      "tensor(11.)\n",
      "tensor([nan, 11., nan, nan, nan, nan, nan, nan, nan, nan, nan, nan, nan])\n",
      "\n",
      "dict_keys(['n_rejected', 'skeletons', 'skeleton_hashes', 'expressions', 'constants', 'input_ids', 'x_tensors', 'y_tensors'])\n",
      "[(1, 19)]\n",
      "tensor([ 7,  6,  1, 10, 25, 11,  6, 11, 32, 11, 33, 11, 29, 33,  8,  6, 11,  6,\n",
      "        18, 31,  2])\n",
      "['<ctrl_complexity>', '<num>', '<bos>', 'neg', 'tan', '*', '<num>', '*', 'x2', '*', 'x3', '*', 'exp', 'x3', '+', '<num>', '*', '<num>', 'pow5', 'x1', '<eos>']\n",
      "tensor(19.)\n",
      "tensor([nan, 19., nan, nan, nan, nan, nan, nan, nan, nan, nan, nan, nan, nan,\n",
      "        nan, nan, nan, nan, nan, nan, nan])\n",
      "\n",
      "dict_keys(['n_rejected', 'skeletons', 'skeleton_hashes', 'expressions', 'constants', 'input_ids', 'x_tensors', 'y_tensors'])\n",
      "[]\n",
      "tensor([ 1, 11, 31, 12,  8,  6,  8,  6, 33,  8, 31, 15, 33,  2])\n",
      "['<bos>', '*', 'x1', '/', '+', '<num>', '+', '<num>', 'x3', '+', 'x1', 'pow2', 'x3', '<eos>']\n",
      "None\n",
      "tensor([nan, nan, nan, nan, nan, nan, nan, nan, nan, nan, nan, nan, nan, nan])\n",
      "\n",
      "dict_keys(['n_rejected', 'skeletons', 'skeleton_hashes', 'expressions', 'constants', 'input_ids', 'x_tensors', 'y_tensors'])\n",
      "[(1, 17)]\n",
      "tensor([ 7,  6,  1,  8, 32,  9,  9, 33, 32, 11, 32, 11, 33, 23, 15, 11, 31, 33,\n",
      "         2])\n",
      "['<ctrl_complexity>', '<num>', '<bos>', '+', 'x2', '-', '-', 'x3', 'x2', '*', 'x2', '*', 'x3', 'sin', 'pow2', '*', 'x1', 'x3', '<eos>']\n",
      "tensor(17.)\n",
      "tensor([nan, 17., nan, nan, nan, nan, nan, nan, nan, nan, nan, nan, nan, nan,\n",
      "        nan, nan, nan, nan, nan])\n",
      "\n",
      "dict_keys(['n_rejected', 'skeletons', 'skeleton_hashes', 'expressions', 'constants', 'input_ids', 'x_tensors', 'y_tensors'])\n",
      "[]\n",
      "tensor([ 1,  8, 31,  9, 12,  9, 33,  6,  6,  6,  2])\n",
      "['<bos>', '+', 'x1', '-', '/', '-', 'x3', '<num>', '<num>', '<num>', '<eos>']\n",
      "None\n",
      "tensor([nan, nan, nan, nan, nan, nan, nan, nan, nan, nan, nan])\n",
      "\n",
      "dict_keys(['n_rejected', 'skeletons', 'skeleton_hashes', 'expressions', 'constants', 'input_ids', 'x_tensors', 'y_tensors'])\n",
      "[]\n",
      "tensor([ 1,  9,  9, 32, 11,  6, 31, 12, 31, 11,  6, 12, 33,  8,  6, 31,  2])\n",
      "['<bos>', '-', '-', 'x2', '*', '<num>', 'x1', '/', 'x1', '*', '<num>', '/', 'x3', '+', '<num>', 'x1', '<eos>']\n",
      "None\n",
      "tensor([nan, nan, nan, nan, nan, nan, nan, nan, nan, nan, nan, nan, nan, nan, nan, nan, nan])\n",
      "\n",
      "dict_keys(['n_rejected', 'skeletons', 'skeleton_hashes', 'expressions', 'constants', 'input_ids', 'x_tensors', 'y_tensors'])\n",
      "[(1, 7)]\n",
      "tensor([ 7,  6,  1, 10, 11,  6, 15, 31,  2])\n",
      "['<ctrl_complexity>', '<num>', '<bos>', 'neg', '*', '<num>', 'pow2', 'x1', '<eos>']\n",
      "tensor(7.)\n",
      "tensor([nan, 7., nan, nan, nan, nan, nan, nan, nan])\n",
      "\n",
      "dict_keys(['n_rejected', 'skeletons', 'skeleton_hashes', 'expressions', 'constants', 'input_ids', 'x_tensors', 'y_tensors'])\n",
      "[(1, 18)]\n",
      "tensor([ 7,  6,  1, 11,  6, 12,  6, 11, 32, 24,  8, 32, 11,  6,  8,  6, 11,  6,\n",
      "        33,  2])\n",
      "['<ctrl_complexity>', '<num>', '<bos>', '*', '<num>', '/', '<num>', '*', 'x2', 'cos', '+', 'x2', '*', '<num>', '+', '<num>', '*', '<num>', 'x3', '<eos>']\n",
      "tensor(18.)\n",
      "tensor([nan, 18., nan, nan, nan, nan, nan, nan, nan, nan, nan, nan, nan, nan,\n",
      "        nan, nan, nan, nan, nan, nan])\n",
      "\n"
     ]
    }
   ],
   "source": [
    "for batch in dataset.iterate(size=10, batch_size=None, preprocess=True):\n",
    "    dataset.collate(batch, device='cpu')\n",
    "    print(batch['input_ids'])\n",
    "    print(dataset.expression_space.tokenizer.decode(batch['input_ids']))\n",
    "    print(batch['complexities'])\n",
    "    print(batch['input_num'])\n",
    "    print()"
   ]
  }
 ],
 "metadata": {
  "kernelspec": {
   "display_name": "flash-ansr",
   "language": "python",
   "name": "python3"
  },
  "language_info": {
   "codemirror_mode": {
    "name": "ipython",
    "version": 3
   },
   "file_extension": ".py",
   "mimetype": "text/x-python",
   "name": "python",
   "nbconvert_exporter": "python",
   "pygments_lexer": "ipython3",
   "version": "3.11.10"
  }
 },
 "nbformat": 4,
 "nbformat_minor": 2
}
