{
 "cells": [
  {
   "cell_type": "code",
   "execution_count": 1,
   "metadata": {},
   "outputs": [],
   "source": [
    "from flash_ansr import FlashANSRDataset, get_path"
   ]
  },
  {
   "cell_type": "code",
   "execution_count": 2,
   "metadata": {},
   "outputs": [
    {
     "name": "stderr",
     "output_type": "stream",
     "text": [
      "Compiling Skeletons: 100%|██████████| 200/200 [00:00<00:00, 40349.24it/s]\n",
      "Compiling Skeletons: 100%|██████████| 43/43 [00:00<00:00, 42972.38it/s]\n",
      "Compiling Skeletons: 100%|██████████| 10/10 [00:00<00:00, 23763.76it/s]\n",
      "Compiling Skeletons: 100%|██████████| 4999/4999 [00:00<00:00, 28922.01it/s]\n"
     ]
    }
   ],
   "source": [
    "dataset = FlashANSRDataset.from_config(get_path('configs', 'v9.0', 'dataset_val.yaml'))"
   ]
  },
  {
   "cell_type": "code",
   "execution_count": 5,
   "metadata": {},
   "outputs": [
    {
     "name": "stdout",
     "output_type": "stream",
     "text": [
      "tensor([[ 7,  6,  1,  8, 31, 12, 31, 17,  8, 31,  8, 31, 14,  8, 33, 33,  2],\n",
      "        [ 1, 15, 12, 12,  6, 33, 28, 31,  2,  0,  0,  0,  0,  0,  0,  0,  0]])\n",
      "['<ctrl_complexity>', '<num>', '<bos>', '+', 'x1', '/', 'x1', 'pow4', '+', 'x1', '+', 'x1', 'inv', '+', 'x3', 'x3', '<eos>']\n",
      "[tensor(15.), None]\n",
      "tensor([[nan, 15., nan, nan, nan, nan, nan, nan, nan, nan, nan, nan, nan, nan,\n",
      "         nan, nan, nan],\n",
      "        [nan, nan, nan, nan, nan, nan, nan, nan, nan, nan, nan, nan, nan, nan,\n",
      "         nan, nan, nan]])\n",
      "\n",
      "tensor([[ 1,  8, 31, 15, 11, 15, 31, 11, 17, 31,  9, 32, 33,  2],\n",
      "        [ 1, 11, 32, 29, 33,  2,  0,  0,  0,  0,  0,  0,  0,  0]])\n",
      "['<bos>', '+', 'x1', 'pow2', '*', 'pow2', 'x1', '*', 'pow4', 'x1', '-', 'x2', 'x3', '<eos>']\n",
      "[]\n",
      "tensor([[nan, nan, nan, nan, nan, nan, nan, nan, nan, nan, nan, nan, nan, nan],\n",
      "        [nan, nan, nan, nan, nan, nan, nan, nan, nan, nan, nan, nan, nan, nan]])\n",
      "\n"
     ]
    }
   ],
   "source": [
    "for batch in dataset.iterate(steps=2, batch_size=2, preprocess=True):\n",
    "    dataset.collate(batch, device='cpu')\n",
    "    print(batch['input_ids'])\n",
    "    print(dataset.expression_space.tokenizer.decode(batch['input_ids'][0]))\n",
    "    print(batch['complexities'])\n",
    "    print(batch['input_num'])\n",
    "    print()"
   ]
  },
  {
   "cell_type": "code",
   "execution_count": 10,
   "metadata": {},
   "outputs": [
    {
     "name": "stdout",
     "output_type": "stream",
     "text": [
      "[7, 6, 1, 29, 8, 6, 9, 11, 31, 32, 15, 31, 2]\n",
      "['<ctrl_complexity>', '<num>', '<bos>', 'exp', '+', '<num>', '-', '*', 'x1', 'x2', 'pow2', 'x1', '<eos>']\n",
      "11\n",
      "[(1, 11)]\n",
      "\n",
      "[1, 12, 12, 8, 32, 24, 32, 6, 31, 2]\n",
      "['<bos>', '/', '/', '+', 'x2', 'cos', 'x2', '<num>', 'x1', '<eos>']\n",
      "None\n",
      "[]\n",
      "\n",
      "[1, 8, 6, 9, 12, 9, 32, 11, 31, 25, 32, 32, 33, 2]\n",
      "['<bos>', '+', '<num>', '-', '/', '-', 'x2', '*', 'x1', 'tan', 'x2', 'x2', 'x3', '<eos>']\n",
      "None\n",
      "[]\n",
      "\n",
      "[1, 8, 6, 12, 24, 8, 32, 17, 31, 32, 2]\n",
      "['<bos>', '+', '<num>', '/', 'cos', '+', 'x2', 'pow4', 'x1', 'x2', '<eos>']\n",
      "None\n",
      "[]\n",
      "\n",
      "[1, 8, 33, 11, 6, 11, 31, 11, 32, 11, 29, 32, 24, 14, 8, 6, 8, 32, 32, 2]\n",
      "['<bos>', '+', 'x3', '*', '<num>', '*', 'x1', '*', 'x2', '*', 'exp', 'x2', 'cos', 'inv', '+', '<num>', '+', 'x2', 'x2', '<eos>']\n",
      "None\n",
      "[]\n",
      "\n",
      "[7, 6, 1, 14, 9, 6, 31, 2]\n",
      "['<ctrl_complexity>', '<num>', '<bos>', 'inv', '-', '<num>', 'x1', '<eos>']\n",
      "6\n",
      "[(1, 6)]\n",
      "\n",
      "[7, 6, 1, 30, 15, 8, 6, 23, 29, 24, 9, 31, 23, 9, 6, 33, 2]\n",
      "['<ctrl_complexity>', '<num>', '<bos>', 'log', 'pow2', '+', '<num>', 'sin', 'exp', 'cos', '-', 'x1', 'sin', '-', '<num>', 'x3', '<eos>']\n",
      "15\n",
      "[(1, 15)]\n",
      "\n",
      "[7, 6, 1, 12, 33, 8, 6, 31, 2]\n",
      "['<ctrl_complexity>', '<num>', '<bos>', '/', 'x3', '+', '<num>', 'x1', '<eos>']\n",
      "7\n",
      "[(1, 7)]\n",
      "\n",
      "[7, 6, 1, 11, 6, 12, 8, 6, 31, 32, 2]\n",
      "['<ctrl_complexity>', '<num>', '<bos>', '*', '<num>', '/', '+', '<num>', 'x1', 'x2', '<eos>']\n",
      "9\n",
      "[(1, 9)]\n",
      "\n",
      "[7, 6, 1, 11, 31, 8, 6, 8, 6, 9, 31, 8, 6, 15, 32, 2]\n",
      "['<ctrl_complexity>', '<num>', '<bos>', '*', 'x1', '+', '<num>', '+', '<num>', '-', 'x1', '+', '<num>', 'pow2', 'x2', '<eos>']\n",
      "14\n",
      "[(1, 14)]\n",
      "\n"
     ]
    }
   ],
   "source": [
    "for batch in dataset.iterate(size=10, batch_size=None, preprocess=True):\n",
    "    dataset.collate(batch, device='cpu')\n",
    "    print(batch['input_ids'])\n",
    "    print(dataset.expression_space.tokenizer.decode(batch['input_ids']))\n",
    "    print(batch['complexities'])\n",
    "    print(batch['input_num'])\n",
    "    print()"
   ]
  }
 ],
 "metadata": {
  "kernelspec": {
   "display_name": "flash-ansr",
   "language": "python",
   "name": "python3"
  },
  "language_info": {
   "codemirror_mode": {
    "name": "ipython",
    "version": 3
   },
   "file_extension": ".py",
   "mimetype": "text/x-python",
   "name": "python",
   "nbconvert_exporter": "python",
   "pygments_lexer": "ipython3",
   "version": "3.11.10"
  }
 },
 "nbformat": 4,
 "nbformat_minor": 2
}
