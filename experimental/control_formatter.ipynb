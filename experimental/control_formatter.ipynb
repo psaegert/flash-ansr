{
 "cells": [
  {
   "cell_type": "code",
   "execution_count": 4,
   "metadata": {},
   "outputs": [],
   "source": [
    "from flash_ansr import FlashANSRDataset, get_path"
   ]
  },
  {
   "cell_type": "code",
   "execution_count": 5,
   "metadata": {},
   "outputs": [
    {
     "name": "stderr",
     "output_type": "stream",
     "text": [
      "Compiling Skeletons: 100%|██████████| 200/200 [00:00<00:00, 31657.51it/s]\n",
      "Compiling Skeletons: 100%|██████████| 43/43 [00:00<00:00, 24037.73it/s]\n",
      "Compiling Skeletons: 100%|██████████| 10/10 [00:00<00:00, 25466.33it/s]\n",
      "Compiling Skeletons: 100%|██████████| 4999/4999 [00:00<00:00, 16003.66it/s]\n"
     ]
    }
   ],
   "source": [
    "dataset = FlashANSRDataset.from_config(get_path('configs', 'v9.0', 'dataset_val.yaml'))"
   ]
  },
  {
   "cell_type": "code",
   "execution_count": 6,
   "metadata": {},
   "outputs": [
    {
     "name": "stdout",
     "output_type": "stream",
     "text": [
      "tensor([[ 7,  6,  1,  8, 11, 32, 25, 32, 24,  8, 33, 15, 33,  2,  0],\n",
      "        [ 7,  6,  1, 13, 11, 31, 11, 32,  9, 11,  6, 23, 31, 32,  2]])\n",
      "['<ctrl_complexity>', '<num>', '<bos>', '+', '*', 'x2', 'tan', 'x2', 'cos', '+', 'x3', 'pow2', 'x3', '<eos>', '<pad>']\n",
      "[tensor(12.), tensor(13.)]\n",
      "tensor([[nan, 12., nan, nan, nan, nan, nan, nan, nan, nan, nan, nan, nan, nan,\n",
      "         nan],\n",
      "        [nan, 13., nan, nan, nan, nan, nan, nan, nan, nan, nan, nan, nan, nan,\n",
      "         nan]])\n",
      "\n",
      "tensor([[ 1, 10, 11, 31, 11, 32,  8, 33,  8, 23, 31,  9, 11, 31, 33,  6,  2],\n",
      "        [ 7,  6,  1, 15,  9, 31, 12, 32, 15,  8,  6, 31,  2,  0,  0,  0,  0]])\n",
      "['<bos>', 'neg', '*', 'x1', '*', 'x2', '+', 'x3', '+', 'sin', 'x1', '-', '*', 'x1', 'x3', '<num>', '<eos>']\n",
      "[None, tensor(11.)]\n",
      "tensor([[nan, nan, nan, nan, nan, nan, nan, nan, nan, nan, nan, nan, nan, nan,\n",
      "         nan, nan, nan],\n",
      "        [nan, 11., nan, nan, nan, nan, nan, nan, nan, nan, nan, nan, nan, nan,\n",
      "         nan, nan, nan]])\n",
      "\n",
      "tensor([[ 1, 28, 12,  9, 14,  8,  6, 33,  6, 33,  2],\n",
      "        [ 7,  6,  1, 10,  8, 33, 11, 32, 33,  2,  0]])\n",
      "['<bos>', 'atan', '/', '-', 'inv', '+', '<num>', 'x3', '<num>', 'x3', '<eos>']\n",
      "[None, tensor(8.)]\n",
      "tensor([[nan, nan, nan, nan, nan, nan, nan, nan, nan, nan, nan],\n",
      "        [nan, 8., nan, nan, nan, nan, nan, nan, nan, nan, nan]])\n",
      "\n",
      "tensor([[ 7,  6,  1, 10, 14, 11, 31, 11, 32, 11, 33,  8, 31, 32,  2,  0,  0,  0],\n",
      "        [ 7,  6,  1, 11,  6,  8, 32,  9, 12,  6,  8, 33,  9, 19, 33, 32, 31,  2]])\n",
      "['<ctrl_complexity>', '<num>', '<bos>', 'neg', 'inv', '*', 'x1', '*', 'x2', '*', 'x3', '+', 'x1', 'x2', '<eos>', '<pad>', '<pad>', '<pad>']\n",
      "[tensor(13.), tensor(16.)]\n",
      "tensor([[nan, 13., nan, nan, nan, nan, nan, nan, nan, nan, nan, nan, nan, nan,\n",
      "         nan, nan, nan, nan],\n",
      "        [nan, 16., nan, nan, nan, nan, nan, nan, nan, nan, nan, nan, nan, nan,\n",
      "         nan, nan, nan, nan]])\n",
      "\n",
      "tensor([[ 1, 15, 11, 32, 12, 32, 33,  2,  0,  0,  0,  0,  0,  0,  0,  0,  0,  0,\n",
      "          0,  0],\n",
      "        [ 7,  6,  1, 24,  8,  6,  9, 33, 11, 32,  9,  9, 33, 15, 32, 14,  8, 31,\n",
      "         32,  2]])\n",
      "['<bos>', 'pow2', '*', 'x2', '/', 'x2', 'x3', '<eos>', '<pad>', '<pad>', '<pad>', '<pad>', '<pad>', '<pad>', '<pad>', '<pad>', '<pad>', '<pad>', '<pad>', '<pad>']\n",
      "[None, tensor(18.)]\n",
      "tensor([[nan, nan, nan, nan, nan, nan, nan, nan, nan, nan, nan, nan, nan, nan,\n",
      "         nan, nan, nan, nan, nan, nan],\n",
      "        [nan, 18., nan, nan, nan, nan, nan, nan, nan, nan, nan, nan, nan, nan,\n",
      "         nan, nan, nan, nan, nan, nan]])\n",
      "\n"
     ]
    }
   ],
   "source": [
    "for batch in dataset.iterate(size=10, batch_size=2, preprocess=True):\n",
    "    dataset.collate_batch(batch, device='cpu')\n",
    "    print(batch['input_ids'])\n",
    "    print(dataset.expression_space.tokenizer.decode(batch['input_ids'][0]))\n",
    "    print(batch['complexities'])\n",
    "    print(batch['input_num'])\n",
    "    print()"
   ]
  }
 ],
 "metadata": {
  "kernelspec": {
   "display_name": "flash-ansr",
   "language": "python",
   "name": "python3"
  },
  "language_info": {
   "codemirror_mode": {
    "name": "ipython",
    "version": 3
   },
   "file_extension": ".py",
   "mimetype": "text/x-python",
   "name": "python",
   "nbconvert_exporter": "python",
   "pygments_lexer": "ipython3",
   "version": "3.11.10"
  }
 },
 "nbformat": 4,
 "nbformat_minor": 2
}
