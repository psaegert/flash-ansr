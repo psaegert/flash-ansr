{
 "cells": [
  {
   "cell_type": "code",
   "execution_count": 10,
   "metadata": {},
   "outputs": [],
   "source": [
    "import numpy as np\n",
    "\n",
    "from flash_ansr import FlashANSRDataset, get_path"
   ]
  },
  {
   "cell_type": "code",
   "execution_count": 11,
   "metadata": {},
   "outputs": [
    {
     "name": "stderr",
     "output_type": "stream",
     "text": [
      "Compiling Skeletons: 100%|██████████| 200/200 [00:00<00:00, 11625.98it/s]\n",
      "Compiling Skeletons: 100%|██████████| 43/43 [00:00<00:00, 39275.93it/s]\n",
      "Compiling Skeletons: 100%|██████████| 10/10 [00:00<00:00, 27288.90it/s]\n",
      "Compiling Skeletons: 100%|██████████| 4999/4999 [00:00<00:00, 27959.42it/s]\n",
      "Compiling Skeletons: 100%|██████████| 5000/5000 [00:00<00:00, 38879.49it/s]\n",
      "Compiling Skeletons: 100%|██████████| 200/200 [00:00<00:00, 33394.14it/s]\n",
      "Compiling Skeletons: 100%|██████████| 43/43 [00:00<00:00, 43075.01it/s]\n",
      "Compiling Skeletons: 100%|██████████| 10/10 [00:00<00:00, 20722.85it/s]\n",
      "Compiling Skeletons: 100%|██████████| 4999/4999 [00:00<00:00, 21856.74it/s]\n"
     ]
    }
   ],
   "source": [
    "dataset = FlashANSRDataset.from_config(get_path('configs', 'v9.0', 'dataset_train.yaml'))"
   ]
  },
  {
   "cell_type": "code",
   "execution_count": 12,
   "metadata": {},
   "outputs": [
    {
     "name": "stderr",
     "output_type": "stream",
     "text": [
      "Batch generating data: 100%|██████████| 100/100 [00:13<00:00,  7.61b/s, reject_rate=44.85%]\n"
     ]
    }
   ],
   "source": [
    "n = 0\n",
    "n_with_complexity = 0\n",
    "\n",
    "for batch in dataset.iterate(steps=100, batch_size=128, preprocess=True, verbose=True):\n",
    "    for seq in batch['input_num']:\n",
    "        if not np.isnan(seq[1]):\n",
    "            n_with_complexity += 1\n",
    "        n += 1"
   ]
  },
  {
   "cell_type": "code",
   "execution_count": 13,
   "metadata": {},
   "outputs": [
    {
     "name": "stdout",
     "output_type": "stream",
     "text": [
      "Fraction of sequences with complexity: 49.61\n"
     ]
    }
   ],
   "source": [
    "print(f'Fraction of sequences with complexity: {100 * n_with_complexity / n:.2f}')"
   ]
  }
 ],
 "metadata": {
  "kernelspec": {
   "display_name": "flash-ansr",
   "language": "python",
   "name": "python3"
  },
  "language_info": {
   "codemirror_mode": {
    "name": "ipython",
    "version": 3
   },
   "file_extension": ".py",
   "mimetype": "text/x-python",
   "name": "python",
   "nbconvert_exporter": "python",
   "pygments_lexer": "ipython3",
   "version": "3.11.10"
  }
 },
 "nbformat": 4,
 "nbformat_minor": 2
}
