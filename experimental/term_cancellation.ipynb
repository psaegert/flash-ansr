{
 "cells": [
  {
   "cell_type": "code",
   "execution_count": 7,
   "metadata": {},
   "outputs": [],
   "source": [
    "from flash_ansr import ExpressionSpace, get_path\n",
    "from flash_ansr.expressions.utils import flatten_nested_list"
   ]
  },
  {
   "cell_type": "code",
   "execution_count": 4,
   "metadata": {},
   "outputs": [],
   "source": [
    "space = ExpressionSpace.from_config(get_path('configs', 'v7.20', 'expression_space.yaml'))"
   ]
  },
  {
   "cell_type": "code",
   "execution_count": 5,
   "metadata": {},
   "outputs": [],
   "source": [
    "expression = ('+', '-', '<num>', 'x1', '+', 'x2', '<num>')"
   ]
  },
  {
   "cell_type": "code",
   "execution_count": 6,
   "metadata": {},
   "outputs": [
    {
     "data": {
      "text/plain": [
       "('+', '-', '<num>', 'x1', '+', 'x2', '<num>')"
      ]
     },
     "execution_count": 6,
     "metadata": {},
     "output_type": "execute_result"
    }
   ],
   "source": [
    "space.simplify(expression)"
   ]
  },
  {
   "cell_type": "code",
   "execution_count": 102,
   "metadata": {},
   "outputs": [],
   "source": [
    "connection_classes = {\n",
    "    'add': (set(['+', '-']), 0),\n",
    "    'mult': (set(['*', '/']), 1),\n",
    "}\n",
    "\n",
    "operator_to_class = {\n",
    "    '+': 'add',\n",
    "    '-': 'add',\n",
    "    '*': 'mult',\n",
    "    '/': 'mult'\n",
    "}\n",
    "\n",
    "connectable_operators = set(['+', '-', '*', '/'])"
   ]
  },
  {
   "cell_type": "code",
   "execution_count": 120,
   "metadata": {},
   "outputs": [],
   "source": [
    "def find_connected_num_paths(expression: list[str] | tuple[str, ...]):\n",
    "    stack = []\n",
    "    stack_annotations = []\n",
    "\n",
    "    i = len(expression) - 1\n",
    "\n",
    "    # Traverse the expression from right to left\n",
    "    while i >= 0:\n",
    "        token = expression[i]\n",
    "\n",
    "        if token in connectable_operators:\n",
    "            operator = token\n",
    "            arity = 2\n",
    "            operands = list(reversed(stack[-arity:]))\n",
    "            operands_annotations_sets = list(reversed(stack_annotations[-arity:]))\n",
    "\n",
    "            if all(operand[0] == '<num>' for operand in operands):\n",
    "                # All operands are constants. Simplify to a single constant\n",
    "                _ = [stack.pop() for _ in range(arity)]\n",
    "                _ = [stack_annotations.pop() for _ in range(arity)]\n",
    "                stack.append(['<num>'])\n",
    "                stack_annotations.append([set('<num>')]) # A node can have multiple annotations\n",
    "                i -= 1\n",
    "                continue\n",
    "\n",
    "            operator_annotation_set = set()\n",
    "            num_in_operands = '<num>' in [operand[0] for operand in operands]\n",
    "            connection_class = operator_to_class[operator]\n",
    "            if num_in_operands or any(any(operand_an.startswith(connection_class) for operand_an in operand_ans[0]) for operand_ans in operands_annotations_sets):\n",
    "                # The subtree has a constant or a constant connected by a path of + or -\n",
    "\n",
    "                if all(any(operand_an.startswith(connection_class) for operand_an in operand_ans[0]) for operand_ans in operands_annotations_sets):\n",
    "                    # Both operands are connected by a path of + or -\n",
    "                    operator_annotation_set.add(f'{connection_class}_connected')\n",
    "                else:\n",
    "                    operator_annotation_set.add(connection_class)\n",
    "\n",
    "            _ = [stack.pop() for _ in range(arity)]\n",
    "            _ = [stack_annotations.pop() for _ in range(arity)]\n",
    "            stack.append([operator, operands])\n",
    "            stack_annotations.append([operator_annotation_set, operands_annotations_sets])\n",
    "            i -= 1\n",
    "            continue\n",
    "\n",
    "        if token == '<num>':\n",
    "            # If the token is a number, push it onto the stack\n",
    "            stack.append([token])\n",
    "            stack_annotations.append([set(['<num>'])])\n",
    "            i -= 1\n",
    "            continue\n",
    "\n",
    "        stack.append([token])\n",
    "        stack_annotations.append([set()])\n",
    "        i -= 1\n",
    "\n",
    "    return stack, stack_annotations"
   ]
  },
  {
   "cell_type": "code",
   "execution_count": 132,
   "metadata": {},
   "outputs": [
    {
     "data": {
      "text/plain": [
       "([['+',\n",
       "   [['-', [['<num>'], ['x1']]],\n",
       "    ['+', [['*', [['<num>'], ['x2']]], ['<num>']]]]]],\n",
       " [[{'add_connected'},\n",
       "   [[{'add'}, [[{'<num>'}], [set()]]],\n",
       "    [{'add'}, [[{'mult'}, [[{'<num>'}], [set()]]], [{'<num>'}]]]]]])"
      ]
     },
     "execution_count": 132,
     "metadata": {},
     "output_type": "execute_result"
    }
   ],
   "source": [
    "expression = ('+', '-', '<num>', 'x1', '+', '*', '<num>', 'x2', '<num>')\n",
    "expression_tree, annotated_expression_tree = find_connected_num_paths(expression)\n",
    "expression_tree, annotated_expression_tree"
   ]
  },
  {
   "cell_type": "code",
   "execution_count": 148,
   "metadata": {},
   "outputs": [],
   "source": [
    "def cancel_nums(expression_tree: list, expression_annotations_tree: list):\n",
    "    stack = expression_tree\n",
    "    stack_annotations = expression_annotations_tree\n",
    "\n",
    "    expression = []\n",
    "\n",
    "    while len(stack) > 0:\n",
    "        # Traverse in dfs\n",
    "        subtree = stack.pop()\n",
    "        subtree_annotation = stack_annotations.pop()\n",
    "\n",
    "        # Leaf node\n",
    "        if len(subtree) == 1:\n",
    "            operand = subtree[0]\n",
    "            operand_annotation = subtree_annotation[0]\n",
    "\n",
    "            if operand == '<num>':\n",
    "                pruned = False\n",
    "                for connection_class in connection_classes:\n",
    "                    if f'{connection_class}_prune' in operand_annotation:\n",
    "                        expression.append(connection_classes[connection_class][1])  # Neural element\n",
    "                        pruned = True\n",
    "                        break\n",
    "                if pruned:\n",
    "                    continue\n",
    "            \n",
    "            expression.append(operand)\n",
    "            continue\n",
    "        \n",
    "        # Non-leaf node\n",
    "        operator, operands = subtree\n",
    "        operator_annotation_set, operands_annotations_sets = subtree_annotation\n",
    "\n",
    "        for connection_class in connection_classes:\n",
    "            if f'{connection_class}_prune' in operator_annotation_set:\n",
    "                # Promote children to '_prune'\n",
    "                for operand_an in operands_annotations_sets:\n",
    "                    operand_an[0].add(f'{connection_class}_prune')\n",
    "                continue\n",
    "\n",
    "            if f'{connection_class}_connected' in operator_annotation_set:\n",
    "                # Promote children to 'connected'\n",
    "                for operand_an in operands_annotations_sets:\n",
    "                    operand_an[0].add(f'{connection_class}_connected')\n",
    "                \n",
    "                # If both children are connected, promote the left child to '_prune'\n",
    "                if all(any(operand_an.startswith(connection_class) for operand_an in operand_ans[0]) for operand_ans in operands_annotations_sets):\n",
    "                    # operands_annotations_sets[0][0].remove(f'{connection_class}_connected')  # Not neecessary because prune is checked first\n",
    "                    operands_annotations_sets[0][0].add(f'{connection_class}_prune')\n",
    "                continue\n",
    "\n",
    "        # Add the operator to the expression\n",
    "        expression.append(operator)\n",
    "\n",
    "        # Add the children to the stack\n",
    "        for operand, operand_an in zip(reversed(operands), reversed(operands_annotations_sets)):\n",
    "            stack.append(operand)\n",
    "            stack_annotations.append(operand_an)\n",
    "\n",
    "    return expression, stack_annotations"
   ]
  },
  {
   "cell_type": "code",
   "execution_count": 149,
   "metadata": {},
   "outputs": [
    {
     "data": {
      "text/plain": [
       "(['+', '-', 0, 'x1', '+', 'x2', '<num>'], [])"
      ]
     },
     "execution_count": 149,
     "metadata": {},
     "output_type": "execute_result"
    }
   ],
   "source": [
    "expression = ('+', '-', '<num>', 'x1', '+', 'x2', '<num>')\n",
    "expression_tree, annotated_expression_tree = find_connected_num_paths(expression)\n",
    "cancel_nums(expression_tree, annotated_expression_tree)"
   ]
  },
  {
   "cell_type": "code",
   "execution_count": 150,
   "metadata": {},
   "outputs": [
    {
     "data": {
      "text/plain": [
       "(['*', '/', 1, 'x1', '*', 'x2', '<num>'], [])"
      ]
     },
     "execution_count": 150,
     "metadata": {},
     "output_type": "execute_result"
    }
   ],
   "source": [
    "expression = ('*', '/', '<num>', 'x1', '*', 'x2', '<num>')\n",
    "expression_tree, annotated_expression_tree = find_connected_num_paths(expression)\n",
    "cancel_nums(expression_tree, annotated_expression_tree)"
   ]
  }
 ],
 "metadata": {
  "kernelspec": {
   "display_name": "flash-ansr",
   "language": "python",
   "name": "python3"
  },
  "language_info": {
   "codemirror_mode": {
    "name": "ipython",
    "version": 3
   },
   "file_extension": ".py",
   "mimetype": "text/x-python",
   "name": "python",
   "nbconvert_exporter": "python",
   "pygments_lexer": "ipython3",
   "version": "3.11.10"
  }
 },
 "nbformat": 4,
 "nbformat_minor": 2
}
