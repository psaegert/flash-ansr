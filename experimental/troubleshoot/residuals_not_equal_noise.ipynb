{
 "cells": [
  {
   "cell_type": "code",
   "execution_count": 10,
   "metadata": {},
   "outputs": [],
   "source": [
    "from flash_ansr import FlashANSRDataset, get_path\n",
    "import torch"
   ]
  },
  {
   "cell_type": "code",
   "execution_count": 11,
   "metadata": {},
   "outputs": [
    {
     "name": "stderr",
     "output_type": "stream",
     "text": [
      "Compiling Skeletons: 100%|██████████| 42/42 [00:00<00:00, 44767.67it/s]\n"
     ]
    }
   ],
   "source": [
    "dataset = FlashANSRDataset.from_config(get_path('data', 'ansr-data', 'test_set', 'feynman', 'dataset.yaml'))"
   ]
  },
  {
   "cell_type": "code",
   "execution_count": 12,
   "metadata": {},
   "outputs": [],
   "source": [
    "noise_level = 1e-3"
   ]
  },
  {
   "cell_type": "code",
   "execution_count": 18,
   "metadata": {},
   "outputs": [
    {
     "name": "stdout",
     "output_type": "stream",
     "text": [
      "tensor([ 1, 10, 30, 10, 31, 32,  2])\n",
      "tensor([10, 30, 10, 31, 32,  2])\n",
      "[]\n",
      "tensor([[-1.8017, -1.4677, -4.3273],\n",
      "        [-0.5928, -1.6034, -2.4563],\n",
      "        [-1.6222, -2.5525,  2.6207]])\n",
      "tensor([[-11.4430],\n",
      "        [ -2.3349],\n",
      "        [ 10.8508]])\n",
      "torch.float32\n",
      "tensor([[-11.4292],\n",
      "        [ -2.3487],\n",
      "        [ 10.8597]])\n",
      "torch.float32\n",
      "float32\n",
      "float32\n"
     ]
    }
   ],
   "source": [
    "for batch in dataset.iterate(size=1):\n",
    "    input_ids, x_tensor, y_tensor, labels, constants = FlashANSRDataset.collate_batch(batch, device='cpu')\n",
    "    print(input_ids)\n",
    "    print(labels)\n",
    "    print(constants)\n",
    "    print(x_tensor[:3])\n",
    "    print(y_tensor[:3])\n",
    "    print(y_tensor.dtype)\n",
    "    \n",
    "    y_tensor_noisy = y_tensor + (noise_level * y_tensor.std() * torch.randn_like(y_tensor))\n",
    "    print(y_tensor_noisy[:3])\n",
    "    print(y_tensor_noisy.dtype)\n",
    "\n",
    "    X = x_tensor.cpu().numpy()[0]\n",
    "    print(X.dtype)\n",
    "    y = y_tensor_noisy.cpu().numpy()[0]\n",
    "    print(y.dtype)"
   ]
  },
  {
   "cell_type": "code",
   "execution_count": null,
   "metadata": {},
   "outputs": [],
   "source": []
  }
 ],
 "metadata": {
  "kernelspec": {
   "display_name": "flash-ansr",
   "language": "python",
   "name": "python3"
  },
  "language_info": {
   "codemirror_mode": {
    "name": "ipython",
    "version": 3
   },
   "file_extension": ".py",
   "mimetype": "text/x-python",
   "name": "python",
   "nbconvert_exporter": "python",
   "pygments_lexer": "ipython3",
   "version": "3.11.10"
  }
 },
 "nbformat": 4,
 "nbformat_minor": 2
}
