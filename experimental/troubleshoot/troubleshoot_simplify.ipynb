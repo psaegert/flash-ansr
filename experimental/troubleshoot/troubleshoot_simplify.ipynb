{
 "cells": [
  {
   "cell_type": "code",
   "execution_count": 1,
   "metadata": {},
   "outputs": [],
   "source": [
    "from flash_ansr import ExpressionSpace, get_path"
   ]
  },
  {
   "cell_type": "code",
   "execution_count": 2,
   "metadata": {},
   "outputs": [],
   "source": [
    "space = ExpressionSpace.from_config(get_path('configs', 'v6.0', 'expression_space.yaml'))"
   ]
  },
  {
   "cell_type": "code",
   "execution_count": 11,
   "metadata": {},
   "outputs": [],
   "source": [
    "raw = ['+', '*', 'x1', 'x2', '*', 'x1', 'x3']"
   ]
  },
  {
   "cell_type": "code",
   "execution_count": 12,
   "metadata": {},
   "outputs": [
    {
     "name": "stdout",
     "output_type": "stream",
     "text": [
      "Input expression: ['+', '*', 'x1', 'x2', '*', 'x1', 'x3']\n",
      "Stack: []\n",
      "Processing token x3\n",
      "Stack: [['x3']]\n",
      "Processing token x1\n",
      "Stack: [['x3'], ['x1']]\n",
      "Processing token *\n",
      "Sorting operands of commutative subtree with operator *: [['x1'], ['x3']] -> [['x1'], ['x3']]\n",
      "Stack: [['*', [['x1'], ['x3']]]]\n",
      "Processing token x2\n",
      "Stack: [['*', [['x1'], ['x3']]], ['x2']]\n",
      "Processing token x1\n",
      "Stack: [['*', [['x1'], ['x3']]], ['x2'], ['x1']]\n",
      "Processing token *\n",
      "Sorting operands of commutative subtree with operator *: [['x1'], ['x2']] -> [['x1'], ['x2']]\n",
      "Stack: [['*', [['x1'], ['x3']]], ['*', [['x1'], ['x2']]]]\n",
      "Processing token +\n",
      "Applying [+, *, A, B, *, A, C] -> [*, A, +, B, C]\n",
      "Input expression: ['*', 'x1', '+', 'x2', 'x3']\n",
      "Stack: []\n",
      "Processing token x3\n",
      "Stack: [['x3']]\n",
      "Processing token x2\n",
      "Stack: [['x3'], ['x2']]\n",
      "Processing token +\n",
      "Sorting operands of commutative subtree with operator +: [['x2'], ['x3']] -> [['x2'], ['x3']]\n",
      "Stack: [['+', [['x2'], ['x3']]]]\n",
      "Processing token x1\n",
      "Stack: [['+', [['x2'], ['x3']]], ['x1']]\n",
      "Processing token *\n",
      "Sorting operands of commutative subtree with operator *: [['x1'], ['+', [['x2'], ['x3']]]] -> [['x1'], ['+', [['x2'], ['x3']]]]\n"
     ]
    },
    {
     "data": {
      "text/plain": [
       "['*', 'x1', '+', 'x2', 'x3']"
      ]
     },
     "execution_count": 12,
     "metadata": {},
     "output_type": "execute_result"
    }
   ],
   "source": [
    "space.simplify(raw, verbose=True, debug=True)"
   ]
  }
 ],
 "metadata": {
  "kernelspec": {
   "display_name": "flash-ansr",
   "language": "python",
   "name": "python3"
  },
  "language_info": {
   "codemirror_mode": {
    "name": "ipython",
    "version": 3
   },
   "file_extension": ".py",
   "mimetype": "text/x-python",
   "name": "python",
   "nbconvert_exporter": "python",
   "pygments_lexer": "ipython3",
   "version": "3.11.10"
  }
 },
 "nbformat": 4,
 "nbformat_minor": 2
}
