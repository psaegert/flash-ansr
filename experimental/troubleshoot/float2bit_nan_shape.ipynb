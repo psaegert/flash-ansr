{
 "cells": [
  {
   "cell_type": "code",
   "execution_count": 61,
   "metadata": {},
   "outputs": [],
   "source": [
    "from typing import Any, Literal\n",
    "\n",
    "import torch\n",
    "from torch import nn\n",
    "\n",
    "def remainder2bit(remainder: torch.Tensor, num_bits: int = 127) -> torch.Tensor:\n",
    "    exponent_bits = torch.arange(num_bits, device=remainder.device).type(remainder.type())\n",
    "    exponent_bits = exponent_bits.repeat(remainder.shape + (1,))\n",
    "    out = (remainder.unsqueeze(-1) * 2 ** exponent_bits) % 1\n",
    "    return torch.floor(2 * out)\n",
    "\n",
    "\n",
    "def integer2bit(integer: torch.Tensor, num_bits: int = 8) -> torch.Tensor:\n",
    "    exponent_bits = - torch.arange(-(num_bits - 1), 1, device=integer.device).type(integer.type())\n",
    "    exponent_bits = exponent_bits.repeat(integer.shape + (1,))\n",
    "    out = integer.unsqueeze(-1) / 2 ** exponent_bits\n",
    "    return (out - (out % 1)) % 2\n",
    "\n",
    "# https://github.com/SymposiumOrganization/NeuralSymbolicRegressionThatScales/blob/main/src/nesymres/architectures/set_encoder.py\n",
    "def float2bit(f: torch.Tensor, num_e_bits: int = 5, num_m_bits: int = 10, bias: int = 127, dtype: Any = torch.float32) -> torch.Tensor:\n",
    "    # Create output tensor with same shape as input plus bits dimension\n",
    "    output_shape = list(f.shape) + [1 + num_e_bits + num_m_bits]\n",
    "    result = torch.zeros(output_shape, device=f.device, dtype=dtype)\n",
    "\n",
    "    # Handle special cases\n",
    "    is_nan = torch.isnan(f)\n",
    "    is_inf = torch.isinf(f)\n",
    "    is_neg_inf = is_inf & (f < 0)\n",
    "    is_pos_inf = is_inf & (f > 0)\n",
    "    is_normal = ~(is_nan | is_inf)\n",
    "\n",
    "    # For normal numbers, use existing logic\n",
    "    if torch.any(is_normal):\n",
    "        normal_vals = f[is_normal]\n",
    "\n",
    "        # SIGN BIT\n",
    "        s = (torch.sign(normal_vals + 0.001) * -1 + 1) * 0.5\n",
    "        s = s.unsqueeze(-1)\n",
    "        f1 = torch.abs(normal_vals)\n",
    "\n",
    "        # EXPONENT BIT\n",
    "        e_scientific = torch.floor(torch.log2(f1))\n",
    "        e_scientific[e_scientific == float(\"-inf\")] = -(2 ** (num_e_bits - 1) - 1)\n",
    "        e_decimal = e_scientific + (2 ** (num_e_bits - 1) - 1)\n",
    "        e = integer2bit(e_decimal, num_bits=num_e_bits)\n",
    "\n",
    "        # MANTISSA\n",
    "        f2 = f1 / 2 ** e_scientific\n",
    "        m2 = remainder2bit(f2 % 1, num_bits=bias)\n",
    "        fin_m = m2[..., :num_m_bits]\n",
    "\n",
    "        normal_result = torch.cat([s, e, fin_m], dim=-1).type(dtype)\n",
    "        result[is_normal] = normal_result\n",
    "\n",
    "    # Handle NaN\n",
    "    if torch.any(is_nan):\n",
    "        # Set all exponent bits to 1 and non-zero mantissa (conventionally first mantissa bit is 1)\n",
    "        # nan_pattern = torch.zeros(result.shape[:-1]).type(dtype)\n",
    "        nan_pattern = torch.zeros(num_e_bits + num_m_bits + 1, device=f.device, dtype=dtype)\n",
    "\n",
    "        # Set exponent bits (all 1s)\n",
    "        nan_pattern[1:1 + num_e_bits] = 1\n",
    "\n",
    "        # Set first mantissa bit to 1\n",
    "        nan_pattern[1 + num_e_bits] = 1\n",
    "\n",
    "        result[is_nan] = nan_pattern\n",
    "\n",
    "    # Handle positive infinity\n",
    "    if torch.any(is_pos_inf):\n",
    "        inf_pattern = torch.zeros(num_e_bits + num_m_bits + 1, device=f.device, dtype=dtype)\n",
    "        # Sign bit is 0\n",
    "        # Set all exponent bits to 1\n",
    "        inf_pattern[1:1 + num_e_bits] = 1\n",
    "        # Mantissa is all zeros\n",
    "        result[is_pos_inf] = inf_pattern\n",
    "\n",
    "    # Handle negative infinity\n",
    "    if torch.any(is_neg_inf):\n",
    "        neg_inf_pattern = torch.zeros(num_e_bits + num_m_bits + 1, device=f.device, dtype=dtype)\n",
    "        # Sign bit is 1\n",
    "        neg_inf_pattern[0] = 1\n",
    "        # Set all exponent bits to 1\n",
    "        neg_inf_pattern[1:1 + num_e_bits] = 1\n",
    "        # Mantissa is all zeros\n",
    "        result[is_neg_inf] = neg_inf_pattern\n",
    "\n",
    "    return result.type(dtype)"
   ]
  },
  {
   "cell_type": "code",
   "execution_count": 67,
   "metadata": {},
   "outputs": [
    {
     "name": "stdout",
     "output_type": "stream",
     "text": [
      "tensor([    nan, -0.5378,  0.2399])\n"
     ]
    }
   ],
   "source": [
    "X1 = torch.randn((3,))\n",
    "\n",
    "# Set random values to NaN\n",
    "X1[0] = float(\"nan\")\n",
    "\n",
    "print(X1)"
   ]
  },
  {
   "cell_type": "code",
   "execution_count": null,
   "metadata": {},
   "outputs": [],
   "source": [
    "f1 = float2bit(X1)\n",
    "f1"
   ]
  },
  {
   "cell_type": "code",
   "execution_count": 69,
   "metadata": {},
   "outputs": [
    {
     "name": "stdout",
     "output_type": "stream",
     "text": [
      "tensor([[    nan, -1.1179,  0.3784,  0.2911],\n",
      "        [ 2.5097, -1.0462, -0.1275, -0.6664],\n",
      "        [-1.5127, -0.7032, -0.9884, -0.7022]])\n"
     ]
    }
   ],
   "source": [
    "X2 = torch.randn((3, 4))\n",
    "\n",
    "# Set random values to NaN\n",
    "X2[0, 0] = float(\"nan\")\n",
    "\n",
    "print(X2)"
   ]
  },
  {
   "cell_type": "code",
   "execution_count": null,
   "metadata": {},
   "outputs": [],
   "source": [
    "f2 = float2bit(X2)\n",
    "f2"
   ]
  },
  {
   "cell_type": "code",
   "execution_count": 74,
   "metadata": {},
   "outputs": [
    {
     "data": {
      "text/plain": [
       "tensor([0., 1., 1., 1., 1., 1., 1., 0., 0., 0., 0., 0., 0., 0., 0., 0.])"
      ]
     },
     "execution_count": 74,
     "metadata": {},
     "output_type": "execute_result"
    }
   ],
   "source": [
    "f2[0, 0]"
   ]
  },
  {
   "cell_type": "code",
   "execution_count": 75,
   "metadata": {},
   "outputs": [],
   "source": [
    "assert (f1[0] == f2[0, 0]).all()"
   ]
  }
 ],
 "metadata": {
  "kernelspec": {
   "display_name": "flash-ansr",
   "language": "python",
   "name": "python3"
  },
  "language_info": {
   "codemirror_mode": {
    "name": "ipython",
    "version": 3
   },
   "file_extension": ".py",
   "mimetype": "text/x-python",
   "name": "python",
   "nbconvert_exporter": "python",
   "pygments_lexer": "ipython3",
   "version": "3.11.10"
  }
 },
 "nbformat": 4,
 "nbformat_minor": 2
}
