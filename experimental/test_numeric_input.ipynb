{
 "cells": [
  {
   "cell_type": "code",
   "execution_count": 1,
   "metadata": {},
   "outputs": [],
   "source": [
    "import torch\n",
    "\n",
    "from flash_ansr import FlashANSRDataset, get_path, FlashANSRTransformer"
   ]
  },
  {
   "cell_type": "code",
   "execution_count": 2,
   "metadata": {},
   "outputs": [
    {
     "name": "stderr",
     "output_type": "stream",
     "text": [
      "Compiling Skeletons: 100%|██████████| 200/200 [00:00<00:00, 45375.71it/s]\n",
      "Compiling Skeletons: 100%|██████████| 43/43 [00:00<00:00, 33825.03it/s]\n",
      "Compiling Skeletons: 100%|██████████| 10/10 [00:00<00:00, 27924.79it/s]\n",
      "Compiling Skeletons: 100%|██████████| 4999/4999 [00:00<00:00, 29023.13it/s]\n"
     ]
    }
   ],
   "source": [
    "dataset = FlashANSRDataset.from_config(get_path('configs', 'v9.0', 'dataset_val.yaml'))"
   ]
  },
  {
   "cell_type": "code",
   "execution_count": 3,
   "metadata": {},
   "outputs": [],
   "source": [
    "ansr = FlashANSRTransformer.from_config(get_path('configs', 'v9.0', 'nsr.yaml'))"
   ]
  },
  {
   "cell_type": "code",
   "execution_count": 18,
   "metadata": {},
   "outputs": [
    {
     "name": "stdout",
     "output_type": "stream",
     "text": [
      "tensor([[ 7,  6,  1, 11,  6, 11,  8,  6, 24, 32],\n",
      "        [ 1, 15,  8,  6, 24, 32,  2,  0,  0,  0]])\n",
      "tensor([[nan, 13., nan, nan, nan, nan, nan, nan, nan, nan],\n",
      "        [nan, nan, nan, nan, nan, nan, nan, nan, nan, nan]])\n",
      "tensor([[ 7,  6,  1, 29, 28, 14, 31,  2,  0,  0],\n",
      "        [ 7,  6,  1,  8, 32, 11, 31, 11, 32,  8]])\n",
      "tensor([[nan,  6., nan, nan, nan, nan, nan, nan, nan, nan],\n",
      "        [nan, 17., nan, nan, nan, nan, nan, nan, nan, nan]])\n"
     ]
    }
   ],
   "source": [
    "for batch in dataset.iterate(steps=2, batch_size=2, preprocess=True):\n",
    "    batch = dataset.collate(batch, device='cpu')\n",
    "\n",
    "    data_tensor = torch.cat([batch['x_tensors'], batch['y_tensors']], dim=-1)\n",
    "\n",
    "    print(batch['input_ids'][:, :10])\n",
    "    print(batch['input_num'][:, :10])\n",
    "\n",
    "    logits, num_out = ansr.forward(batch['input_ids'], data_tensor, input_num=batch['input_num'].unsqueeze(-1))"
   ]
  }
 ],
 "metadata": {
  "kernelspec": {
   "display_name": "flash-ansr",
   "language": "python",
   "name": "python3"
  },
  "language_info": {
   "codemirror_mode": {
    "name": "ipython",
    "version": 3
   },
   "file_extension": ".py",
   "mimetype": "text/x-python",
   "name": "python",
   "nbconvert_exporter": "python",
   "pygments_lexer": "ipython3",
   "version": "3.11.10"
  }
 },
 "nbformat": 4,
 "nbformat_minor": 2
}
