{
 "cells": [
  {
   "cell_type": "code",
   "execution_count": 1,
   "metadata": {},
   "outputs": [],
   "source": [
    "import torch\n",
    "\n",
    "from flash_ansr import FlashANSRDataset, get_path, FlashANSRTransformer"
   ]
  },
  {
   "cell_type": "code",
   "execution_count": 2,
   "metadata": {},
   "outputs": [
    {
     "name": "stderr",
     "output_type": "stream",
     "text": [
      "Compiling Skeletons: 100%|██████████| 200/200 [00:00<00:00, 46707.17it/s]"
     ]
    },
    {
     "name": "stderr",
     "output_type": "stream",
     "text": [
      "\n",
      "Compiling Skeletons: 100%|██████████| 43/43 [00:00<00:00, 41623.60it/s]\n",
      "Compiling Skeletons: 100%|██████████| 10/10 [00:00<00:00, 25842.91it/s]\n",
      "Compiling Skeletons: 100%|██████████| 4999/4999 [00:00<00:00, 31634.61it/s]\n"
     ]
    }
   ],
   "source": [
    "dataset = FlashANSRDataset.from_config(get_path('configs', 'v9.0', 'dataset_val.yaml'))"
   ]
  },
  {
   "cell_type": "code",
   "execution_count": 3,
   "metadata": {},
   "outputs": [],
   "source": [
    "ansr = FlashANSRTransformer.from_config(get_path('configs', 'v9.0', 'nsr.yaml'))"
   ]
  },
  {
   "cell_type": "code",
   "execution_count": 4,
   "metadata": {},
   "outputs": [
    {
     "name": "stdout",
     "output_type": "stream",
     "text": [
      "tensor([[ 1,  8,  6,  9, 31, 11, 32, 33,  2],\n",
      "        [ 1,  8, 33, 24, 25, 33,  2,  0,  0]])\n",
      "tensor([[nan, nan, nan, nan, nan, nan, nan, nan, nan],\n",
      "        [nan, nan, nan, nan, nan, nan, nan, nan, nan]])\n",
      "torch.Size([2, 9, 1])\n",
      "torch.Size([2, 512, 4])\n",
      "tensor([[ 7,  6,  1, 29, 14,  9, 24, 24, 31, 25],\n",
      "        [ 1,  8, 33,  8, 33, 14, 11,  8,  6, 31]])\n",
      "tensor([[nan, 13., nan, nan, nan, nan, nan, nan, nan, nan],\n",
      "        [nan, nan, nan, nan, nan, nan, nan, nan, nan, nan]])\n",
      "torch.Size([2, 15, 1])\n",
      "torch.Size([2, 440, 4])\n"
     ]
    }
   ],
   "source": [
    "for batch in dataset.iterate(steps=2, batch_size=2, preprocess=True):\n",
    "    batch = dataset.collate(batch, device='cpu')\n",
    "\n",
    "    data_tensor = torch.cat([batch['x_tensors'], batch['y_tensors']], dim=-1)\n",
    "\n",
    "    print(batch['input_ids'][:, :10])\n",
    "    print(batch['input_num'][:, :10])\n",
    "\n",
    "    logits, num_out = ansr.forward(batch['input_ids'], data_tensor, input_num=batch['input_num'].unsqueeze(-1))"
   ]
  }
 ],
 "metadata": {
  "kernelspec": {
   "display_name": "flash-ansr",
   "language": "python",
   "name": "python3"
  },
  "language_info": {
   "codemirror_mode": {
    "name": "ipython",
    "version": 3
   },
   "file_extension": ".py",
   "mimetype": "text/x-python",
   "name": "python",
   "nbconvert_exporter": "python",
   "pygments_lexer": "ipython3",
   "version": "3.11.10"
  }
 },
 "nbformat": 4,
 "nbformat_minor": 2
}
