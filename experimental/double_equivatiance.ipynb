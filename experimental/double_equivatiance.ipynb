{
 "cells": [
  {
   "cell_type": "code",
   "execution_count": 1,
   "metadata": {},
   "outputs": [],
   "source": [
    "from flash_ansr.models.encoders.set_encoder import SetEncoder\n",
    "from flash_ansr.models.encoders.set_transformer import ISAB, PMA, SAB\n",
    "from flash_ansr.models.transformer_utils import PositionalEncoding\n",
    "import torch\n",
    "from torch import nn\n",
    "\n",
    "device = torch.device(\"cuda\" if torch.cuda.is_available() else \"cpu\")"
   ]
  },
  {
   "cell_type": "code",
   "execution_count": 2,
   "metadata": {},
   "outputs": [],
   "source": [
    "class SetTransformer(SetEncoder):\n",
    "    # https://github.com/juho-lee/set_transformer\n",
    "    def __init__(\n",
    "            self,\n",
    "            input_size: int,\n",
    "            output_size: int,\n",
    "            n_seeds: int,\n",
    "            hidden_size: int = 512,\n",
    "            n_enc_isab: int = 2,\n",
    "            n_dec_sab: int = 2,\n",
    "            n_induce: int | list[int] = 64,\n",
    "            n_heads: int = 4,\n",
    "            layer_norm: bool = False) -> None:\n",
    "        super().__init__()\n",
    "        if n_enc_isab < 1:\n",
    "            raise ValueError(f\"Number of ISABs in encoder `n_enc_isab` ({n_enc_isab}) must be greater than 0\")\n",
    "\n",
    "        if n_dec_sab < 0:\n",
    "            raise ValueError(f\"Number of SABs in decoder `n_dec_sab` ({n_dec_sab}) cannot be negative\")\n",
    "\n",
    "        if isinstance(n_induce, int):\n",
    "            n_induce = [n_induce] * n_enc_isab\n",
    "        elif len(n_induce) != n_enc_isab:\n",
    "            raise ValueError(\n",
    "                f\"Number of inducing points `n_induce` ({n_induce}) must be an integer or a list of length {n_enc_isab}\")\n",
    "\n",
    "        self.enc = nn.Sequential(\n",
    "            ISAB(input_size, hidden_size, n_heads, n_induce[0], layer_norm),\n",
    "            *[ISAB(hidden_size, hidden_size, n_heads, n_induce[i + 1], layer_norm) for i in range(n_enc_isab - 1)])\n",
    "\n",
    "        self.dec = nn.Sequential(\n",
    "            PMA(hidden_size, n_heads, n_seeds, layer_norm),\n",
    "            *[SAB(hidden_size, hidden_size, n_heads, layer_norm) for _ in range(n_dec_sab)],\n",
    "            nn.Linear(hidden_size, output_size))\n",
    "\n",
    "    def forward(self, X: torch.Tensor) -> torch.Tensor:\n",
    "        return self.dec(self.enc(X))\n"
   ]
  },
  {
   "cell_type": "code",
   "execution_count": 3,
   "metadata": {},
   "outputs": [],
   "source": [
    "s = SetTransformer(13, 13, 64).to(device)"
   ]
  },
  {
   "cell_type": "code",
   "execution_count": 4,
   "metadata": {},
   "outputs": [
    {
     "name": "stdout",
     "output_type": "stream",
     "text": [
      "torch.Size([128, 64, 13])\n"
     ]
    }
   ],
   "source": [
    "X = torch.rand(128, 70, 13).to(device)\n",
    "print(s(X).shape)"
   ]
  },
  {
   "cell_type": "code",
   "execution_count": 5,
   "metadata": {},
   "outputs": [],
   "source": [
    "class FlatSetTransformer(SetEncoder):\n",
    "    # https://github.com/juho-lee/set_transformer\n",
    "    def __init__(\n",
    "            self,\n",
    "            input_size: int,\n",
    "            output_size: int,\n",
    "            n_seeds: int,\n",
    "            hidden_size: int = 512,\n",
    "            n_enc_isab: int = 2,\n",
    "            n_dec_sab: int = 2,\n",
    "            n_induce: int | list[int] = 64,\n",
    "            n_heads: int = 4,\n",
    "            layer_norm: bool = False,\n",
    "            add_positional_encoding: bool = True) -> None:\n",
    "        super().__init__()\n",
    "        if n_enc_isab < 1:\n",
    "            raise ValueError(f\"Number of ISABs in encoder `n_enc_isab` ({n_enc_isab}) must be greater than 0\")\n",
    "\n",
    "        if n_dec_sab < 0:\n",
    "            raise ValueError(f\"Number of SABs in decoder `n_dec_sab` ({n_dec_sab}) cannot be negative\")\n",
    "\n",
    "        if isinstance(n_induce, int):\n",
    "            n_induce = [n_induce] * n_enc_isab\n",
    "        elif len(n_induce) != n_enc_isab:\n",
    "            raise ValueError(\n",
    "                f\"Number of inducing points `n_induce` ({n_induce}) must be an integer or a list of length {n_enc_isab}\")\n",
    "\n",
    "        self.enc = nn.Sequential(\n",
    "            ISAB(input_size, hidden_size, n_heads, n_induce[0], layer_norm),\n",
    "            *[ISAB(hidden_size, hidden_size, n_heads, n_induce[i + 1], layer_norm) for i in range(n_enc_isab - 1)])\n",
    "\n",
    "        self.dec = nn.Sequential(\n",
    "            PMA(hidden_size, n_heads, n_seeds, layer_norm),\n",
    "            *[SAB(hidden_size, hidden_size, n_heads, layer_norm) for _ in range(n_dec_sab)],\n",
    "            nn.Linear(hidden_size, output_size))\n",
    "        \n",
    "        self.add_positional_encoding = add_positional_encoding\n",
    "        self.positional_encoding_out = PositionalEncoding()\n",
    "\n",
    "    def forward(self, X: torch.Tensor) -> torch.Tensor:\n",
    "        B, M, D, E = X.shape\n",
    "        out = self.dec(self.enc(X.reshape(B, M * D, E)))\n",
    "\n",
    "        if self.add_positional_encoding:\n",
    "            E = X.size(-1)\n",
    "\n",
    "            # Positional encoding\n",
    "            X = X + self.positional_encoding_out(shape=(D, E), device=X.device)\n",
    "        return out\n",
    "        "
   ]
  },
  {
   "cell_type": "code",
   "execution_count": 6,
   "metadata": {},
   "outputs": [
    {
     "data": {
      "text/plain": [
       "13099533"
      ]
     },
     "execution_count": 6,
     "metadata": {},
     "output_type": "execute_result"
    }
   ],
   "source": [
    "s = FlatSetTransformer(16, 13, 64, n_enc_isab=5, hidden_size=512).to(device)\n",
    "s.n_params"
   ]
  },
  {
   "cell_type": "code",
   "execution_count": 7,
   "metadata": {},
   "outputs": [
    {
     "name": "stdout",
     "output_type": "stream",
     "text": [
      "torch.Size([128, 64, 13])\n"
     ]
    }
   ],
   "source": [
    "X = torch.rand(128, 512, 3, 16)\n",
    "print(s(X.to(device)).shape)"
   ]
  },
  {
   "cell_type": "code",
   "execution_count": 5,
   "metadata": {},
   "outputs": [],
   "source": [
    "class AlternatingSetTransformer(SetEncoder):\n",
    "    # https://github.com/juho-lee/set_transformer\n",
    "    def __init__(\n",
    "            self,\n",
    "            input_embedding_size: int,\n",
    "            output_embedding_size: int,\n",
    "            n_seeds: int,\n",
    "            input_dimension_size: int | None = None,  # unused\n",
    "            hidden_size: int = 512,\n",
    "            n_enc_isab: int = 2,\n",
    "            n_dec_sab: int = 2,\n",
    "            n_induce: int | list[int] = 64,\n",
    "            n_heads: int = 4,\n",
    "            layer_norm: bool = False,\n",
    "            add_positional_encoding: bool = True) -> None:\n",
    "        super().__init__()\n",
    "        if n_enc_isab < 1:\n",
    "            raise ValueError(f\"Number of ISABs in encoder `n_enc_isab` ({n_enc_isab}) must be greater than 0\")\n",
    "\n",
    "        if n_dec_sab < 0:\n",
    "            raise ValueError(f\"Number of SABs in decoder `n_dec_sab` ({n_dec_sab}) cannot be negative\")\n",
    "\n",
    "        if isinstance(n_induce, int):\n",
    "            n_induce = [n_induce] * n_enc_isab\n",
    "        elif len(n_induce) != n_enc_isab:\n",
    "            raise ValueError(\n",
    "                f\"Number of inducing points `n_induce` ({n_induce}) must be an integer or a list of length {n_enc_isab}\")\n",
    "\n",
    "        self.linear_in = nn.Linear(input_embedding_size, hidden_size)\n",
    "        self.enc = nn.ModuleList([ISAB(hidden_size, hidden_size, n_heads, n_induce[i], layer_norm) for i in range(n_enc_isab)])\n",
    "        self.pma = PMA(hidden_size, n_heads, n_seeds, layer_norm)\n",
    "        self.dec = nn.ModuleList([SAB(hidden_size, hidden_size, n_heads, layer_norm) for _ in range(n_dec_sab)])\n",
    "        self.linear_out = nn.Linear(hidden_size, output_embedding_size)\n",
    "        self.positional_encoding_out = PositionalEncoding()\n",
    "\n",
    "        self.add_positional_encoding = add_positional_encoding\n",
    "\n",
    "    def forward(self, X: torch.Tensor) -> torch.Tensor:\n",
    "        # X: (B, M, D, E)\n",
    "        # With batch size B, M points, D dimensions, and each value being encoded with E dimensions\n",
    "        B, M, D, _ = X.size()\n",
    "\n",
    "        # X (B, M, D, E) -> (B, M, D, E')\n",
    "        X = self.linear_in(X)\n",
    "        E_prime = X.size(-1)\n",
    "\n",
    "        for i, isab in enumerate(self.enc):\n",
    "            if i % 2 == 0:\n",
    "                # Alternate to self attention between points\n",
    "                # X (B, M, D, E') -> (B * D, M, E')\n",
    "                X = X.transpose(1, 2).reshape(B * D, M, E_prime)\n",
    "                X = isab(X)\n",
    "\n",
    "                # X (B * D, M, E') -> (B, M, D, E')\n",
    "                X = X.view(B, D, M, E_prime).transpose(1, 2)\n",
    "            else:\n",
    "                # Self attention between dimensions\n",
    "                # X (B, M, D, E') -> (B * M, D, E')\n",
    "                X = X.reshape(B * M, D, E_prime)\n",
    "                X = isab(X)\n",
    "\n",
    "                # X (B * M, D, E') -> (B, M, D, E')\n",
    "                X = X.view(B, M, D, E_prime)\n",
    "\n",
    "        # Pooling through PMA\n",
    "        # X (B, M, D, E') -> (B * D, M, E')\n",
    "        X = X.transpose(1, 2).reshape(B * D, M, E_prime)\n",
    "\n",
    "        # X (B * D, M, E') -> (B * D, S, E')\n",
    "        X = self.pma(X)\n",
    "        S = X.size(1)\n",
    "\n",
    "        # X (B * D, S, E') -> (B, S, D, E')\n",
    "        X = X.view(B, D, S, E_prime).transpose(1, 2)\n",
    "\n",
    "        for i, sab in enumerate(self.dec):\n",
    "            if i % 2 == 0:\n",
    "                # Alternate to self attention between points\n",
    "                # X (B, S, D, E') -> (B * D, S, E')\n",
    "                X = X.transpose(1, 2).reshape(B * D, S, E_prime)\n",
    "                X = sab(X)\n",
    "\n",
    "                # X (B * D, S, E') -> (B, S, D, E')\n",
    "                X = X.view(B, D, S, E_prime).transpose(1, 2)\n",
    "            else:\n",
    "                # Self attention between dimensions\n",
    "                # X (B, S, D, E') -> (B * S, D, E')\n",
    "                X = X.reshape(B * S, D, E_prime)\n",
    "                X = sab(X)\n",
    "\n",
    "                # X (B * S, D, E') -> (B, S, D, E')\n",
    "                X = X.view(B, S, D, E_prime)\n",
    "\n",
    "        # X (B, S, D, E') -> (B, S, D, E)\n",
    "        X = self.linear_out(X)\n",
    "\n",
    "        if self.add_positional_encoding:\n",
    "            E = X.size(-1)\n",
    "\n",
    "            # Positional encoding\n",
    "            # X (B, S, D, E) -> (B * S, D, E)\n",
    "            X = X.view(B * S, D, E)\n",
    "            X = X + self.positional_encoding_out(X)\n",
    "\n",
    "            # X (B * S, D, E) -> (B, S, D, E)\n",
    "            X = X.view(B, S, D, E)\n",
    "\n",
    "        return X"
   ]
  },
  {
   "cell_type": "code",
   "execution_count": 6,
   "metadata": {},
   "outputs": [],
   "source": [
    "s = AlternatingSetTransformer(16, 32, 3).to(device)"
   ]
  },
  {
   "cell_type": "code",
   "execution_count": 7,
   "metadata": {},
   "outputs": [
    {
     "name": "stdout",
     "output_type": "stream",
     "text": [
      "torch.Size([128, 3, 13, 32])\n"
     ]
    }
   ],
   "source": [
    "# X: (B, M, D, E)\n",
    "X = torch.rand(128, 70, 13, 16).to(device)\n",
    "with torch.no_grad():\n",
    "    print(s(X).shape)"
   ]
  },
  {
   "cell_type": "code",
   "execution_count": 8,
   "metadata": {},
   "outputs": [
    {
     "ename": "AssertionError",
     "evalue": "",
     "output_type": "error",
     "traceback": [
      "\u001b[0;31m---------------------------------------------------------------------------\u001b[0m",
      "\u001b[0;31mAssertionError\u001b[0m                            Traceback (most recent call last)",
      "Cell \u001b[0;32mIn[8], line 1\u001b[0m\n\u001b[0;32m----> 1\u001b[0m \u001b[38;5;28;01massert\u001b[39;00m \u001b[38;5;28;01mFalse\u001b[39;00m\n",
      "\u001b[0;31mAssertionError\u001b[0m: "
     ]
    }
   ],
   "source": [
    "assert False"
   ]
  },
  {
   "cell_type": "code",
   "execution_count": 8,
   "metadata": {},
   "outputs": [],
   "source": [
    "s = AlternatingSetTransformer(11, 5, 3, n_enc_isab=2).to(device)"
   ]
  },
  {
   "cell_type": "code",
   "execution_count": null,
   "metadata": {},
   "outputs": [
    {
     "ename": "TypeError",
     "evalue": "AlternatingSetTransformer.forward() got an unexpected keyword argument 'add_positional_encoding'",
     "output_type": "error",
     "traceback": [
      "\u001b[0;31m---------------------------------------------------------------------------\u001b[0m",
      "\u001b[0;31mTypeError\u001b[0m                                 Traceback (most recent call last)",
      "Cell \u001b[0;32mIn[9], line 3\u001b[0m\n\u001b[1;32m      1\u001b[0m \u001b[38;5;66;03m#  Verify equivariance in the D dimension\u001b[39;00m\n\u001b[1;32m      2\u001b[0m X \u001b[38;5;241m=\u001b[39m torch\u001b[38;5;241m.\u001b[39mrand(\u001b[38;5;241m2\u001b[39m, \u001b[38;5;241m7\u001b[39m, \u001b[38;5;241m13\u001b[39m, \u001b[38;5;241m11\u001b[39m)\u001b[38;5;241m.\u001b[39mto(device)\n\u001b[0;32m----> 3\u001b[0m Y \u001b[38;5;241m=\u001b[39m s(X, add_positional_encoding\u001b[38;5;241m=\u001b[39m\u001b[38;5;28;01mFalse\u001b[39;00m)\n\u001b[1;32m      5\u001b[0m random_permutation \u001b[38;5;241m=\u001b[39m torch\u001b[38;5;241m.\u001b[39mrandperm(X\u001b[38;5;241m.\u001b[39msize(\u001b[38;5;241m2\u001b[39m))\n\u001b[1;32m      6\u001b[0m X_permuted \u001b[38;5;241m=\u001b[39m X[:, :, random_permutation]\n",
      "File \u001b[0;32m~/miniconda3/envs/flash-ansr/lib/python3.11/site-packages/torch/nn/modules/module.py:1736\u001b[0m, in \u001b[0;36mModule._wrapped_call_impl\u001b[0;34m(self, *args, **kwargs)\u001b[0m\n\u001b[1;32m   1734\u001b[0m     \u001b[38;5;28;01mreturn\u001b[39;00m \u001b[38;5;28mself\u001b[39m\u001b[38;5;241m.\u001b[39m_compiled_call_impl(\u001b[38;5;241m*\u001b[39margs, \u001b[38;5;241m*\u001b[39m\u001b[38;5;241m*\u001b[39mkwargs)  \u001b[38;5;66;03m# type: ignore[misc]\u001b[39;00m\n\u001b[1;32m   1735\u001b[0m \u001b[38;5;28;01melse\u001b[39;00m:\n\u001b[0;32m-> 1736\u001b[0m     \u001b[38;5;28;01mreturn\u001b[39;00m \u001b[38;5;28mself\u001b[39m\u001b[38;5;241m.\u001b[39m_call_impl(\u001b[38;5;241m*\u001b[39margs, \u001b[38;5;241m*\u001b[39m\u001b[38;5;241m*\u001b[39mkwargs)\n",
      "File \u001b[0;32m~/miniconda3/envs/flash-ansr/lib/python3.11/site-packages/torch/nn/modules/module.py:1747\u001b[0m, in \u001b[0;36mModule._call_impl\u001b[0;34m(self, *args, **kwargs)\u001b[0m\n\u001b[1;32m   1742\u001b[0m \u001b[38;5;66;03m# If we don't have any hooks, we want to skip the rest of the logic in\u001b[39;00m\n\u001b[1;32m   1743\u001b[0m \u001b[38;5;66;03m# this function, and just call forward.\u001b[39;00m\n\u001b[1;32m   1744\u001b[0m \u001b[38;5;28;01mif\u001b[39;00m \u001b[38;5;129;01mnot\u001b[39;00m (\u001b[38;5;28mself\u001b[39m\u001b[38;5;241m.\u001b[39m_backward_hooks \u001b[38;5;129;01mor\u001b[39;00m \u001b[38;5;28mself\u001b[39m\u001b[38;5;241m.\u001b[39m_backward_pre_hooks \u001b[38;5;129;01mor\u001b[39;00m \u001b[38;5;28mself\u001b[39m\u001b[38;5;241m.\u001b[39m_forward_hooks \u001b[38;5;129;01mor\u001b[39;00m \u001b[38;5;28mself\u001b[39m\u001b[38;5;241m.\u001b[39m_forward_pre_hooks\n\u001b[1;32m   1745\u001b[0m         \u001b[38;5;129;01mor\u001b[39;00m _global_backward_pre_hooks \u001b[38;5;129;01mor\u001b[39;00m _global_backward_hooks\n\u001b[1;32m   1746\u001b[0m         \u001b[38;5;129;01mor\u001b[39;00m _global_forward_hooks \u001b[38;5;129;01mor\u001b[39;00m _global_forward_pre_hooks):\n\u001b[0;32m-> 1747\u001b[0m     \u001b[38;5;28;01mreturn\u001b[39;00m forward_call(\u001b[38;5;241m*\u001b[39margs, \u001b[38;5;241m*\u001b[39m\u001b[38;5;241m*\u001b[39mkwargs)\n\u001b[1;32m   1749\u001b[0m result \u001b[38;5;241m=\u001b[39m \u001b[38;5;28;01mNone\u001b[39;00m\n\u001b[1;32m   1750\u001b[0m called_always_called_hooks \u001b[38;5;241m=\u001b[39m \u001b[38;5;28mset\u001b[39m()\n",
      "\u001b[0;31mTypeError\u001b[0m: AlternatingSetTransformer.forward() got an unexpected keyword argument 'add_positional_encoding'"
     ]
    }
   ],
   "source": [
    "#  Verify equivariance in the D dimension\n",
    "X = torch.rand(2, 7, 13, 11).to(device)\n",
    "Y = s(X, add_positional_encoding=False)\n",
    "\n",
    "random_permutation = torch.randperm(X.size(2))\n",
    "X_permuted = X[:, :, random_permutation]\n",
    "Y_permuted = s(X_permuted, add_positional_encoding=False)\n",
    "assert torch.allclose(Y_permuted, Y[:, :, random_permutation], atol=1e-6)"
   ]
  },
  {
   "cell_type": "code",
   "execution_count": 10,
   "metadata": {},
   "outputs": [],
   "source": [
    "#  Verify equivariance in the D dimension is broken when adding positional encoding\n",
    "X = torch.rand(2, 7, 13, 11).to(device)\n",
    "Y = s(X)\n",
    "random_permutation = torch.randperm(X.size(2))\n",
    "X_permuted = X[:, :, random_permutation]\n",
    "Y_permuted = s(X_permuted)\n",
    "assert not torch.allclose(Y_permuted, Y[:, :, random_permutation])"
   ]
  }
 ],
 "metadata": {
  "kernelspec": {
   "display_name": "flash-ansr",
   "language": "python",
   "name": "python3"
  },
  "language_info": {
   "codemirror_mode": {
    "name": "ipython",
    "version": 3
   },
   "file_extension": ".py",
   "mimetype": "text/x-python",
   "name": "python",
   "nbconvert_exporter": "python",
   "pygments_lexer": "ipython3",
   "version": "3.11.10"
  }
 },
 "nbformat": 4,
 "nbformat_minor": 2
}
