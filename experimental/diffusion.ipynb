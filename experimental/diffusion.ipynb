{
 "cells": [
  {
   "cell_type": "code",
   "execution_count": 1,
   "metadata": {},
   "outputs": [],
   "source": [
    "from flash_ansr import ExpressionSpace, SkeletonPool, get_path"
   ]
  },
  {
   "cell_type": "code",
   "execution_count": 2,
   "metadata": {},
   "outputs": [],
   "source": [
    "import numpy as np\n",
    "import torch"
   ]
  },
  {
   "cell_type": "code",
   "execution_count": 3,
   "metadata": {},
   "outputs": [
    {
     "name": "stderr",
     "output_type": "stream",
     "text": [
      "Compiling Skeletons: 100%|██████████| 200/200 [00:00<00:00, 49174.09it/s]\n",
      "Compiling Skeletons: 100%|██████████| 43/43 [00:00<00:00, 44920.32it/s]\n",
      "Compiling Skeletons: 100%|██████████| 10/10 [00:00<00:00, 23366.60it/s]\n",
      "Compiling Skeletons: 100%|██████████| 4999/4999 [00:00<00:00, 27739.99it/s]\n",
      "Compiling Skeletons: 100%|██████████| 5000/5000 [00:00<00:00, 19963.81it/s]\n",
      "Compiling Skeletons: 100%|██████████| 200/200 [00:00<00:00, 51087.75it/s]\n",
      "Compiling Skeletons: 100%|██████████| 43/43 [00:00<00:00, 46979.70it/s]\n",
      "Compiling Skeletons: 100%|██████████| 10/10 [00:00<00:00, 27648.68it/s]\n",
      "Compiling Skeletons: 100%|██████████| 4999/4999 [00:00<00:00, 31796.09it/s]\n"
     ]
    }
   ],
   "source": [
    "pool = SkeletonPool.from_config(get_path('configs', 'v7.0', 'skeleton_pool_train.yaml'))\n",
    "space = pool.expression_space"
   ]
  },
  {
   "cell_type": "code",
   "execution_count": 4,
   "metadata": {},
   "outputs": [],
   "source": [
    "def modify_insert(expression: list[str], index: int, value: str) -> list[str]:\n",
    "    expression.insert(index, value)\n",
    "    return expression\n",
    "\n",
    "def modify_remove(expression: list[str], index: int) -> list[str]:\n",
    "    expression.pop(index)\n",
    "    return expression\n",
    "\n",
    "def modify_replace(expression: list[str], index: int, value: str) -> list[str]:\n",
    "    expression[index] = value\n",
    "    return expression"
   ]
  },
  {
   "cell_type": "code",
   "execution_count": 5,
   "metadata": {},
   "outputs": [
    {
     "name": "stdout",
     "output_type": "stream",
     "text": [
      "['-', '/', 'abs', '+', '<num>', '+', 'x2', 'log', 'x1', '<num>', '<num>']\n"
     ]
    }
   ],
   "source": [
    "original = pool.sample_skeleton()[0]\n",
    "original = [str(t) for t in original]\n",
    "print(original)"
   ]
  },
  {
   "cell_type": "code",
   "execution_count": 6,
   "metadata": {},
   "outputs": [],
   "source": [
    "def scramble(expression: list[str], steps: int | None = None) -> tuple[list[str], list[tuple[str, int, str | None]], list[tuple[str, int, str | None]]]:\n",
    "    expression = expression.copy()\n",
    "    steps = steps or len(expression)\n",
    "    available_values = list(space.operator_arity.keys()) + list(space.variables)\n",
    "    modifications = []\n",
    "    reverse_modifications = []\n",
    "    for _ in range(steps):\n",
    "        operation = str(np.random.choice(['insert', 'remove', 'replace']))\n",
    "        if operation == 'insert':\n",
    "            index = np.random.randint(len(expression))\n",
    "            value = str(np.random.choice(available_values))\n",
    "            modifications.append((operation, index, value))\n",
    "            reverse_modifications.append(('remove', index, None))\n",
    "            expression = modify_insert(expression, index, value)\n",
    "        elif operation == 'remove':\n",
    "            index = np.random.randint(len(expression))\n",
    "            modifications.append((operation, index, None))\n",
    "            reverse_modifications.append(('insert', index, expression[index]))\n",
    "            expression = modify_remove(expression, index)\n",
    "        elif operation == 'replace':\n",
    "            index = np.random.randint(len(expression))\n",
    "            value = str(np.random.choice(available_values))\n",
    "            modifications.append((operation, index, value))\n",
    "            reverse_modifications.append(('replace', index, expression[index]))\n",
    "            expression = modify_replace(expression, index, value)\n",
    "    return expression, modifications, reverse_modifications[::-1]"
   ]
  },
  {
   "cell_type": "code",
   "execution_count": 7,
   "metadata": {},
   "outputs": [],
   "source": [
    "def partial_transformations(source: list[str], modifications: list[tuple[str, int, str | None]]) -> list[list[str]]:\n",
    "    targets = []\n",
    "    target = source.copy()\n",
    "    for operation, index, value in modifications:\n",
    "        if operation == 'insert':\n",
    "            target = modify_insert(target, index, value)\n",
    "        elif operation == 'remove':\n",
    "            target = modify_remove(target, index)\n",
    "        elif operation == 'replace':\n",
    "            target = modify_replace(target, index, value)\n",
    "        targets.append(target.copy())\n",
    "    return targets"
   ]
  },
  {
   "cell_type": "code",
   "execution_count": 8,
   "metadata": {},
   "outputs": [],
   "source": [
    "available_values = list(space.operator_arity.keys()) + list(space.variables) + ['<num>'] + ['<pad>']\n",
    "V = len(available_values)\n",
    "action_space_size = 2 * V + 2"
   ]
  },
  {
   "cell_type": "code",
   "execution_count": 9,
   "metadata": {},
   "outputs": [],
   "source": [
    "def action_to_logit(action: tuple[str, int, str | None]) -> int:\n",
    "    if action[0] == 'remove':\n",
    "        return 0\n",
    "    elif action[0] == 'insert':\n",
    "        return 1 + available_values.index(action[2])\n",
    "    elif action[0] == 'replace':\n",
    "        return 1 + V + available_values.index(action[2])\n",
    "    elif action[0] == 'noop':\n",
    "        return 1 + 2 * V\n",
    "\n",
    "    raise ValueError(f'Invalid action: {action}')\n",
    "\n",
    "def logit_to_action(logit: int) -> tuple[str, int, str | None]:\n",
    "    if logit == 0:\n",
    "        return 'remove', 0, None\n",
    "    elif logit <= V:\n",
    "        return 'insert', 0, available_values[logit - 1]\n",
    "    elif logit <= 2 * V:\n",
    "        return 'replace', 0, available_values[logit - 1 - V]\n",
    "    else:\n",
    "        return 'noop', 0, None"
   ]
  },
  {
   "cell_type": "code",
   "execution_count": 10,
   "metadata": {},
   "outputs": [],
   "source": [
    "def create_tensors(source: list[str], modifications: list[tuple[str, int, str | None]], pad=True) -> list[list[str]]:\n",
    "    targets = [source.copy()]\n",
    "    target = source.copy()\n",
    "    for operation, index, value in modifications[:-1]:\n",
    "        if operation == 'insert':\n",
    "            target = modify_insert(target, index, value)\n",
    "        elif operation == 'remove':\n",
    "            target = modify_remove(target, index)\n",
    "        elif operation == 'replace':\n",
    "            target = modify_replace(target, index, value)\n",
    "        targets.append(target.copy())\n",
    "        \n",
    "    input_ids = [space.tokenizer.encode(t, return_tensors=False) for t in targets]\n",
    "    logits = [action_to_logit(m) for m in modifications]\n",
    "\n",
    "    if pad:\n",
    "        max_length = max(len(t) for t in input_ids) + 1\n",
    "        input_ids = [t + [0] * (max_length - len(t)) for t in input_ids]\n",
    "\n",
    "    logits_tensor = torch.full((len(logits), max_length), action_to_logit(('noop', 0, None)), dtype=torch.long)\n",
    "    for i in range(len(logits)):\n",
    "        try:\n",
    "            logits_tensor[i, modifications[i][1]] = logits[i]\n",
    "        except IndexError:\n",
    "            print(i, logits_tensor.shape, modifications[i], logits[i])\n",
    "            raise\n",
    "\n",
    "    return torch.tensor(input_ids), logits_tensor"
   ]
  },
  {
   "cell_type": "code",
   "execution_count": 11,
   "metadata": {},
   "outputs": [],
   "source": [
    "scrambled, modifications, reverse_modifications = scramble(original)"
   ]
  },
  {
   "cell_type": "code",
   "execution_count": 12,
   "metadata": {},
   "outputs": [
    {
     "name": "stdout",
     "output_type": "stream",
     "text": [
      "['-', 'log', 'abs', 'pow3', 'pow5', '+', '<num>', 'atan', 'pow2', 'pow1_5', 'x2', 'pow1_5', '<num>', '<num>']\n",
      "\n",
      "['-', 'log', 'abs', 'pow3', 'pow5', '+', '<num>', 'atan', 'pow2', 'pow1_5', 'x2', '<num>', '<num>']\n",
      "['-', 'log', 'abs', 'pow5', '+', '<num>', 'atan', 'pow2', 'pow1_5', 'x2', '<num>', '<num>']\n",
      "['-', 'log', 'abs', 'pow5', '+', '<num>', 'atan', 'pow2', 'x2', '<num>', '<num>']\n",
      "['-', 'log', 'abs', '+', '<num>', 'atan', 'pow2', 'x2', '<num>', '<num>']\n",
      "['-', '/', 'abs', '+', '<num>', 'atan', 'pow2', 'x2', '<num>', '<num>']\n",
      "['-', '/', 'abs', '+', '<num>', 'atan', 'pow2', 'x2', 'log', '<num>', '<num>']\n",
      "['-', '/', 'abs', '+', '<num>', 'pow2', 'x2', 'log', '<num>', '<num>']\n",
      "['-', '/', 'abs', '+', '<num>', 'pow4', 'pow2', 'x2', 'log', '<num>', '<num>']\n",
      "['-', '/', 'abs', '+', '<num>', 'pow2', 'x2', 'log', '<num>', '<num>']\n",
      "['-', '/', 'abs', '+', '<num>', '+', 'x2', 'log', '<num>', '<num>']\n",
      "['-', '/', 'abs', '+', '<num>', '+', 'x2', 'log', 'x1', '<num>', '<num>']\n",
      "\n",
      "['-', '/', 'abs', '+', '<num>', '+', 'x2', 'log', 'x1', '<num>', '<num>']\n"
     ]
    }
   ],
   "source": [
    "print(scrambled)\n",
    "print()\n",
    "\n",
    "changed_expressions = partial_transformations(scrambled, reverse_modifications)\n",
    "for expression in changed_expressions:\n",
    "    print(expression)\n",
    "\n",
    "print()\n",
    "print(original)"
   ]
  },
  {
   "cell_type": "code",
   "execution_count": 13,
   "metadata": {},
   "outputs": [
    {
     "name": "stdout",
     "output_type": "stream",
     "text": [
      "tensor([[ 8, 29, 12, 15, 17,  7,  6, 27, 14, 21, 31, 21,  6,  6,  0],\n",
      "        [ 8, 29, 12, 15, 17,  7,  6, 27, 14, 21, 31,  6,  6,  0,  0],\n",
      "        [ 8, 29, 12, 17,  7,  6, 27, 14, 21, 31,  6,  6,  0,  0,  0],\n",
      "        [ 8, 29, 12, 17,  7,  6, 27, 14, 31,  6,  6,  0,  0,  0,  0],\n",
      "        [ 8, 29, 12,  7,  6, 27, 14, 31,  6,  6,  0,  0,  0,  0,  0],\n",
      "        [ 8, 11, 12,  7,  6, 27, 14, 31,  6,  6,  0,  0,  0,  0,  0],\n",
      "        [ 8, 11, 12,  7,  6, 27, 14, 31, 29,  6,  6,  0,  0,  0,  0],\n",
      "        [ 8, 11, 12,  7,  6, 14, 31, 29,  6,  6,  0,  0,  0,  0,  0],\n",
      "        [ 8, 11, 12,  7,  6, 16, 14, 31, 29,  6,  6,  0,  0,  0,  0],\n",
      "        [ 8, 11, 12,  7,  6, 14, 31, 29,  6,  6,  0,  0,  0,  0,  0],\n",
      "        [ 8, 11, 12,  7,  6,  7, 31, 29,  6,  6,  0,  0,  0,  0,  0]])\n",
      "tensor([[57, 57, 57, 57, 57, 57, 57, 57, 57, 57, 57,  0, 57, 57, 57],\n",
      "        [57, 57, 57,  0, 57, 57, 57, 57, 57, 57, 57, 57, 57, 57, 57],\n",
      "        [57, 57, 57, 57, 57, 57, 57, 57,  0, 57, 57, 57, 57, 57, 57],\n",
      "        [57, 57, 57,  0, 57, 57, 57, 57, 57, 57, 57, 57, 57, 57, 57],\n",
      "        [57, 33, 57, 57, 57, 57, 57, 57, 57, 57, 57, 57, 57, 57, 57],\n",
      "        [57, 57, 57, 57, 57, 57, 57, 57, 23, 57, 57, 57, 57, 57, 57],\n",
      "        [57, 57, 57, 57, 57,  0, 57, 57, 57, 57, 57, 57, 57, 57, 57],\n",
      "        [57, 57, 57, 57, 57, 10, 57, 57, 57, 57, 57, 57, 57, 57, 57],\n",
      "        [57, 57, 57, 57, 57,  0, 57, 57, 57, 57, 57, 57, 57, 57, 57],\n",
      "        [57, 57, 57, 57, 57, 29, 57, 57, 57, 57, 57, 57, 57, 57, 57],\n",
      "        [57, 57, 57, 57, 57, 57, 57, 57, 24, 57, 57, 57, 57, 57, 57]])\n"
     ]
    }
   ],
   "source": [
    "input_ids, logits = create_tensors(scrambled, reverse_modifications)\n",
    "print(input_ids)\n",
    "print(logits)"
   ]
  },
  {
   "cell_type": "code",
   "execution_count": 72,
   "metadata": {},
   "outputs": [],
   "source": [
    "def sample_instance(skeleton):\n",
    "    scrambled, _, reverse_modifications = scramble(skeleton, 1)\n",
    "    input_ids, logits = create_tensors(scrambled, reverse_modifications)\n",
    "    return input_ids, logits"
   ]
  },
  {
   "cell_type": "code",
   "execution_count": 73,
   "metadata": {},
   "outputs": [],
   "source": [
    "# %%timeit\n",
    "# sample_instance(original)"
   ]
  },
  {
   "cell_type": "code",
   "execution_count": 74,
   "metadata": {},
   "outputs": [],
   "source": [
    "available_values = list(space.operator_arity.keys()) + list(space.variables) + ['<num>']\n",
    "device = ('cuda' if torch.cuda.is_available() else 'cpu')"
   ]
  },
  {
   "cell_type": "code",
   "execution_count": 75,
   "metadata": {},
   "outputs": [],
   "source": [
    "from torch import nn\n",
    "from tqdm import tqdm\n",
    "import matplotlib.pyplot as plt\n",
    "from flash_ansr.models.transformer_utils import PositionalEncoding"
   ]
  },
  {
   "cell_type": "code",
   "execution_count": 105,
   "metadata": {},
   "outputs": [],
   "source": [
    "class ANSRDiffuser(nn.Module):\n",
    "    def __init__(self, size: int):\n",
    "        super().__init__()\n",
    "\n",
    "        self.positional_encoding = PositionalEncoding()\n",
    "        self.embedding = nn.Embedding(len(space.tokenizer.vocab), size)\n",
    "        self.transformer_decoder = nn.TransformerEncoder(\n",
    "            nn.TransformerEncoderLayer(d_model=size, dim_feedforward=size*4, nhead=8, batch_first=True),\n",
    "            num_layers=5\n",
    "        )\n",
    "        self.head = nn.Linear(size, action_space_size)\n",
    "\n",
    "    def forward(self, x):\n",
    "        x = self.embedding(x)\n",
    "        x * x + self.positional_encoding(x)\n",
    "        x = self.transformer_decoder(x)\n",
    "        return self.head(x)\n",
    "    \n",
    "    @property\n",
    "    def n_params(self):\n",
    "        return sum(p.numel() for p in self.parameters())"
   ]
  },
  {
   "cell_type": "code",
   "execution_count": 106,
   "metadata": {},
   "outputs": [
    {
     "name": "stdout",
     "output_type": "stream",
     "text": [
      "Number of parameters: 1,003,066\n"
     ]
    }
   ],
   "source": [
    "model = ANSRDiffuser(size=128).to(device)\n",
    "print(f'Number of parameters: {model.n_params:,}')\n",
    "\n",
    "optimizer = torch.optim.Adam(model.parameters(), lr=1e-4, amsgrad=True)\n",
    "loss_fn = nn.CrossEntropyLoss(ignore_index=action_to_logit(('noop', 0, None)))"
   ]
  },
  {
   "cell_type": "code",
   "execution_count": 108,
   "metadata": {},
   "outputs": [
    {
     "name": "stderr",
     "output_type": "stream",
     "text": [
      "  1%|          | 677/100000 [00:04<10:57, 151.00it/s, Loss: 0.0022]\n"
     ]
    },
    {
     "ename": "KeyboardInterrupt",
     "evalue": "",
     "output_type": "error",
     "traceback": [
      "\u001b[0;31m---------------------------------------------------------------------------\u001b[0m",
      "\u001b[0;31mKeyboardInterrupt\u001b[0m                         Traceback (most recent call last)",
      "Cell \u001b[0;32mIn[108], line 17\u001b[0m\n\u001b[1;32m     15\u001b[0m loss \u001b[38;5;241m=\u001b[39m loss_fn(output, logits)\n\u001b[1;32m     16\u001b[0m loss\u001b[38;5;241m.\u001b[39mbackward()\n\u001b[0;32m---> 17\u001b[0m optimizer\u001b[38;5;241m.\u001b[39mstep()\n\u001b[1;32m     19\u001b[0m history\u001b[38;5;241m.\u001b[39mappend(loss\u001b[38;5;241m.\u001b[39mitem())\n\u001b[1;32m     21\u001b[0m pbar\u001b[38;5;241m.\u001b[39mset_postfix_str(\u001b[38;5;124mf\u001b[39m\u001b[38;5;124m'\u001b[39m\u001b[38;5;124mLoss: \u001b[39m\u001b[38;5;132;01m{\u001b[39;00mloss\u001b[38;5;241m.\u001b[39mitem()\u001b[38;5;132;01m:\u001b[39;00m\u001b[38;5;124m.4f\u001b[39m\u001b[38;5;132;01m}\u001b[39;00m\u001b[38;5;124m'\u001b[39m)\n",
      "File \u001b[0;32m~/miniconda3/envs/flash-ansr/lib/python3.11/site-packages/torch/optim/optimizer.py:487\u001b[0m, in \u001b[0;36mOptimizer.profile_hook_step.<locals>.wrapper\u001b[0;34m(*args, **kwargs)\u001b[0m\n\u001b[1;32m    482\u001b[0m         \u001b[38;5;28;01melse\u001b[39;00m:\n\u001b[1;32m    483\u001b[0m             \u001b[38;5;28;01mraise\u001b[39;00m \u001b[38;5;167;01mRuntimeError\u001b[39;00m(\n\u001b[1;32m    484\u001b[0m                 \u001b[38;5;124mf\u001b[39m\u001b[38;5;124m\"\u001b[39m\u001b[38;5;132;01m{\u001b[39;00mfunc\u001b[38;5;132;01m}\u001b[39;00m\u001b[38;5;124m must return None or a tuple of (new_args, new_kwargs), but got \u001b[39m\u001b[38;5;132;01m{\u001b[39;00mresult\u001b[38;5;132;01m}\u001b[39;00m\u001b[38;5;124m.\u001b[39m\u001b[38;5;124m\"\u001b[39m\n\u001b[1;32m    485\u001b[0m             )\n\u001b[0;32m--> 487\u001b[0m out \u001b[38;5;241m=\u001b[39m func(\u001b[38;5;241m*\u001b[39margs, \u001b[38;5;241m*\u001b[39m\u001b[38;5;241m*\u001b[39mkwargs)\n\u001b[1;32m    488\u001b[0m \u001b[38;5;28mself\u001b[39m\u001b[38;5;241m.\u001b[39m_optimizer_step_code()\n\u001b[1;32m    490\u001b[0m \u001b[38;5;66;03m# call optimizer step post hooks\u001b[39;00m\n",
      "File \u001b[0;32m~/miniconda3/envs/flash-ansr/lib/python3.11/site-packages/torch/optim/optimizer.py:75\u001b[0m, in \u001b[0;36m_use_grad_for_differentiable.<locals>._use_grad\u001b[0;34m(self, *args, **kwargs)\u001b[0m\n\u001b[1;32m     72\u001b[0m \u001b[38;5;28;01mdef\u001b[39;00m \u001b[38;5;21m_use_grad\u001b[39m(\u001b[38;5;28mself\u001b[39m, \u001b[38;5;241m*\u001b[39margs, \u001b[38;5;241m*\u001b[39m\u001b[38;5;241m*\u001b[39mkwargs):\n\u001b[1;32m     73\u001b[0m     \u001b[38;5;28;01mimport\u001b[39;00m \u001b[38;5;21;01mtorch\u001b[39;00m\u001b[38;5;21;01m.\u001b[39;00m\u001b[38;5;21;01m_dynamo\u001b[39;00m\n\u001b[0;32m---> 75\u001b[0m     prev_grad \u001b[38;5;241m=\u001b[39m torch\u001b[38;5;241m.\u001b[39mis_grad_enabled()\n\u001b[1;32m     76\u001b[0m     \u001b[38;5;28;01mtry\u001b[39;00m:\n\u001b[1;32m     77\u001b[0m         \u001b[38;5;66;03m# Note on graph break below:\u001b[39;00m\n\u001b[1;32m     78\u001b[0m         \u001b[38;5;66;03m# we need to graph break to ensure that aot respects the no_grad annotation.\u001b[39;00m\n\u001b[0;32m   (...)\u001b[0m\n\u001b[1;32m     87\u001b[0m         \u001b[38;5;66;03m# graph break to allow the fully fused fwd-bwd-optimizer graph to be compiled.\u001b[39;00m\n\u001b[1;32m     88\u001b[0m         \u001b[38;5;66;03m# see https://github.com/pytorch/pytorch/issues/104053\u001b[39;00m\n\u001b[1;32m     89\u001b[0m         torch\u001b[38;5;241m.\u001b[39mset_grad_enabled(\u001b[38;5;28mself\u001b[39m\u001b[38;5;241m.\u001b[39mdefaults[\u001b[38;5;124m\"\u001b[39m\u001b[38;5;124mdifferentiable\u001b[39m\u001b[38;5;124m\"\u001b[39m])\n",
      "\u001b[0;31mKeyboardInterrupt\u001b[0m: "
     ]
    }
   ],
   "source": [
    "history = []\n",
    "\n",
    "pbar = tqdm(range(100_000))\n",
    "\n",
    "for i in pbar:\n",
    "    input_ids, logits = sample_instance(original)\n",
    "    input_ids, logits = input_ids.to(device), logits.to(device)\n",
    "\n",
    "    optimizer.zero_grad()\n",
    "    output = model(input_ids)\n",
    "\n",
    "    output = output.view(-1, action_space_size)\n",
    "    logits = logits.view(-1)\n",
    "    \n",
    "    loss = loss_fn(output, logits)\n",
    "    loss.backward()\n",
    "    optimizer.step()\n",
    "\n",
    "    history.append(loss.item())\n",
    "\n",
    "    pbar.set_postfix_str(f'Loss: {loss.item():.4f}')"
   ]
  },
  {
   "cell_type": "code",
   "execution_count": 109,
   "metadata": {},
   "outputs": [
    {
     "data": {
      "image/png": "[encoded data removed]",
      "text/plain": [
       "<Figure size 640x480 with 1 Axes>"
      ]
     },
     "metadata": {},
     "output_type": "display_data"
    }
   ],
   "source": [
    "plt.plot(history)\n",
    "plt.yscale('log')"
   ]
  },
  {
   "cell_type": "code",
   "execution_count": 110,
   "metadata": {},
   "outputs": [],
   "source": [
    "def sample_action(model, input_ids):\n",
    "    with torch.no_grad():\n",
    "        output = model(input_ids.unsqueeze(0))\n",
    "        # Sample an action from all logits at all positions\n",
    "        action = torch.multinomial(output.view(-1).softmax(0), 1).item()\n",
    "        position = action // action_space_size\n",
    "        logit = action % action_space_size\n",
    "        return position, logit_to_action(logit)"
   ]
  },
  {
   "cell_type": "code",
   "execution_count": 111,
   "metadata": {},
   "outputs": [
    {
     "data": {
      "text/plain": [
       "(6, ('replace', 0, 'x2'))"
      ]
     },
     "execution_count": 111,
     "metadata": {},
     "output_type": "execute_result"
    }
   ],
   "source": [
    "input_ids = space.tokenizer.encode(scrambled, return_tensors=True).to(device)\n",
    "# model(input_ids.unsqueeze(0))\n",
    "sample_action(model, input_ids)"
   ]
  },
  {
   "cell_type": "code",
   "execution_count": 112,
   "metadata": {},
   "outputs": [
    {
     "data": {
      "text/plain": [
       "torch.Size([11])"
      ]
     },
     "execution_count": 112,
     "metadata": {},
     "output_type": "execute_result"
    }
   ],
   "source": [
    "input_ids.shape"
   ]
  },
  {
   "cell_type": "code",
   "execution_count": 113,
   "metadata": {},
   "outputs": [],
   "source": [
    "scrambled, _, reverse_modifications = scramble(original, 1)"
   ]
  },
  {
   "cell_type": "code",
   "execution_count": 143,
   "metadata": {},
   "outputs": [
    {
     "name": "stdout",
     "output_type": "stream",
     "text": [
      "['-', '/', 'abs', 'neg', '+', '<num>', '+', 'x2', 'log', 'x1', '<num>', '<num>']\n",
      "['-', '/', 'abs', 'neg', '+', '<num>', '+', 'x2', 'log', 'x1', '<num>', '<num>']\n",
      "---\n",
      "['-', '/', 'abs', '+', '<num>', '+', 'x2', 'log', 'x1', '<num>', '<num>']\n",
      "---\n",
      "['-', '/', 'abs', '+', '<num>', '+', 'x2', 'log', 'x1', '<num>', '<num>']\n",
      "['-', '/', 'abs', '+', '+', '<num>', '+', 'x2', 'log', 'x1', '<num>', '<num>']\n",
      "---\n",
      "['-', '/', 'abs', '+', '<num>', '+', 'x2', 'log', 'x1', '<num>', '<num>']\n",
      "---\n",
      "['-', '/', 'abs', '+', '<num>', '+', 'x2', 'log', 'x1', '<num>', '<num>']\n",
      "---\n",
      "['-', '/', 'abs', '+', '<num>', '+', 'x2', 'log', 'x1', '<num>', '<num>']\n",
      "['-', '/', 'abs', '+', '<num>', '+', 'x2', 'log', 'x1', '<num>', '+', '<num>']\n",
      "['-', 'abs', '+', '<num>', '+', 'x2', 'log', 'x1', '<num>', '+', '<num>']\n",
      "['-', 'abs', '/', '<num>', '+', 'x2', 'log', 'x1', '<num>', '+', '<num>']\n",
      "['-', 'abs', '/', '<num>', '+', 'x2', 'log', 'x1', '<num>', '+', '<num>']\n",
      "['abs', '/', '<num>', '+', 'x2', 'log', 'x1', '<num>', '+', '<num>']\n",
      "['abs', '/', '<num>', '+', '-', 'log', 'x1', '<num>', '+', '<num>']\n",
      "['abs', '/', '<num>', 'x2', '-', 'log', 'x1', '<num>', '+', '<num>']\n",
      "['abs', '/', '<num>', '+', 'x2', '-', 'log', 'x1', '<num>', '+', '<num>']\n",
      "['-', '/', 'abs', '+', '<num>', '+', 'x2', 'log', 'x1', '<num>', '<num>']\n"
     ]
    }
   ],
   "source": [
    "reconstruction = scrambled.copy()\n",
    "\n",
    "for _ in range(16):\n",
    "    input_ids = space.tokenizer.encode(reconstruction, return_tensors=True).to(device)\n",
    "    position, action = sample_action(model, input_ids)\n",
    "    operation, _, value = action\n",
    "    print(reconstruction)\n",
    "    if operation == 'insert':\n",
    "        reconstruction = modify_insert(reconstruction, position, value)\n",
    "    elif operation == 'remove':\n",
    "        reconstruction = modify_remove(reconstruction, position)\n",
    "    elif operation == 'replace':\n",
    "        reconstruction = modify_replace(reconstruction, position, value)\n",
    "    if reconstruction == original:\n",
    "        print('---')\n",
    "\n",
    "print(original)"
   ]
  },
  {
   "cell_type": "markdown",
   "metadata": {},
   "source": [
    "---"
   ]
  },
  {
   "cell_type": "code",
   "execution_count": 43,
   "metadata": {},
   "outputs": [],
   "source": [
    "from Levenshtein import editops, apply_edit"
   ]
  },
  {
   "cell_type": "code",
   "execution_count": 61,
   "metadata": {},
   "outputs": [
    {
     "name": "stdout",
     "output_type": "stream",
     "text": [
      "['/', '<num>', '*', 'x3', '+', 'x1', '+', 'x2', '/', 'x2', 'pow2', 'x2']\n",
      "['/', '-', 'atan', '*', 'pow2', 'abs', '*', 'log', 'abs', '+', 'x2', 'pow1_2', 'cos', 'x2', 'pow2', 'exp']\n",
      "\n",
      "[('remove', 4, None), ('replace', 3, 'log'), ('insert', 2, '*'), ('replace', 11, 'exp'), ('replace', 1, 'atan'), ('replace', 5, 'abs'), ('insert', 3, 'pow2'), ('insert', 4, 'log'), ('insert', 1, '-'), ('insert', 11, 'pow1_2'), ('replace', 5, 'abs'), ('replace', 12, 'cos')]\n",
      "\n",
      "[('replace', 12, '/'), ('replace', 5, 'log'), ('remove', 11, None), ('remove', 1, None), ('remove', 4, None), ('remove', 3, None), ('replace', 5, 'x1'), ('replace', 1, '<num>'), ('replace', 11, 'x2'), ('remove', 2, None), ('replace', 3, 'x3'), ('insert', 4, '+')]\n",
      "\n",
      "[('replace', 1, 1), ('delete', 2, 2), ('replace', 4, 3), ('replace', 5, 4), ('replace', 6, 5), ('delete', 7, 6), ('delete', 8, 6), ('replace', 11, 8), ('delete', 12, 9), ('replace', 15, 11)]\n"
     ]
    }
   ],
   "source": [
    "scrambled, modifications, reverse_modifications = scramble(original)\n",
    "best_reverse_modifications = editops(tuple(scrambled), tuple(original))\n",
    "scrambled = [str(t) for t in scrambled]\n",
    "print(original)\n",
    "print(scrambled)\n",
    "print()\n",
    "print(modifications)\n",
    "print()\n",
    "print(reverse_modifications)\n",
    "print()\n",
    "print(best_reverse_modifications)"
   ]
  },
  {
   "cell_type": "code",
   "execution_count": 113,
   "metadata": {},
   "outputs": [],
   "source": [
    "def create_partial_reconstructions(source: list[str], target: list[str], modifications: list[tuple[str, int, int]]) -> list[list[str]]:\n",
    "    partial_reconstructions = []\n",
    "    partial_reconstruction = source.copy()\n",
    "    index_shift = np.zeros(len(target), dtype=int)\n",
    "    for operation, index_source, index_target in modifications:\n",
    "        print(operation, index_source, index_target)\n",
    "        print(operation, index_source + np.cumsum(index_shift)[index_source], index_target)\n",
    "        if operation == 'insert':\n",
    "            partial_reconstruction.insert(index_source, target[index_target])\n",
    "            index_shift[index_target] += 1\n",
    "        elif operation == 'delete':\n",
    "            partial_reconstruction.pop(index_source)\n",
    "            index_shift[index_target] -= 1\n",
    "        elif operation == 'replace':\n",
    "            partial_reconstruction[index_source + np.cumsum(index_shift)[index_source]] = target[index_target]\n",
    "        print(partial_reconstruction)\n",
    "        partial_reconstructions.append(partial_reconstruction.copy())\n",
    "    return partial_reconstructions"
   ]
  },
  {
   "cell_type": "code",
   "execution_count": 114,
   "metadata": {},
   "outputs": [
    {
     "name": "stdout",
     "output_type": "stream",
     "text": [
      "['/', '-', 'atan', '*', 'pow2', 'abs', '*', 'log', 'abs', '+', 'x2', 'pow1_2', 'cos', 'x2', 'pow2', 'exp']\n",
      "\n",
      "replace 1 1\n",
      "replace 1 1\n",
      "['/', '<num>', 'atan', '*', 'pow2', 'abs', '*', 'log', 'abs', '+', 'x2', 'pow1_2', 'cos', 'x2', 'pow2', 'exp']\n",
      "delete 2 2\n",
      "delete 2 2\n",
      "['/', '<num>', '*', 'pow2', 'abs', '*', 'log', 'abs', '+', 'x2', 'pow1_2', 'cos', 'x2', 'pow2', 'exp']\n",
      "replace 4 3\n",
      "replace 3 3\n",
      "['/', '<num>', '*', 'x3', 'abs', '*', 'log', 'abs', '+', 'x2', 'pow1_2', 'cos', 'x2', 'pow2', 'exp']\n",
      "replace 5 4\n",
      "replace 4 4\n",
      "['/', '<num>', '*', 'x3', '+', '*', 'log', 'abs', '+', 'x2', 'pow1_2', 'cos', 'x2', 'pow2', 'exp']\n",
      "replace 6 5\n",
      "replace 5 5\n",
      "['/', '<num>', '*', 'x3', '+', 'x1', 'log', 'abs', '+', 'x2', 'pow1_2', 'cos', 'x2', 'pow2', 'exp']\n",
      "delete 7 6\n",
      "delete 6 6\n",
      "['/', '<num>', '*', 'x3', '+', 'x1', 'log', '+', 'x2', 'pow1_2', 'cos', 'x2', 'pow2', 'exp']\n",
      "delete 8 6\n",
      "delete 6 6\n",
      "['/', '<num>', '*', 'x3', '+', 'x1', 'log', '+', 'pow1_2', 'cos', 'x2', 'pow2', 'exp']\n",
      "replace 11 8\n",
      "replace 8 8\n",
      "['/', '<num>', '*', 'x3', '+', 'x1', 'log', '+', '/', 'cos', 'x2', 'pow2', 'exp']\n",
      "delete 12 9\n"
     ]
    },
    {
     "ename": "IndexError",
     "evalue": "index 12 is out of bounds for axis 0 with size 12",
     "output_type": "error",
     "traceback": [
      "\u001b[0;31m---------------------------------------------------------------------------\u001b[0m",
      "\u001b[0;31mIndexError\u001b[0m                                Traceback (most recent call last)",
      "Cell \u001b[0;32mIn[114], line 4\u001b[0m\n\u001b[1;32m      1\u001b[0m \u001b[38;5;28mprint\u001b[39m(scrambled)\n\u001b[1;32m      2\u001b[0m \u001b[38;5;28mprint\u001b[39m()\n\u001b[0;32m----> 4\u001b[0m \u001b[38;5;28;01mfor\u001b[39;00m rec \u001b[38;5;129;01min\u001b[39;00m create_partial_reconstructions(scrambled, original, best_reverse_modifications):\n\u001b[1;32m      5\u001b[0m     \u001b[38;5;28mprint\u001b[39m(rec)\n\u001b[1;32m      6\u001b[0m     \u001b[38;5;28mprint\u001b[39m()\n",
      "Cell \u001b[0;32mIn[113], line 7\u001b[0m, in \u001b[0;36mcreate_partial_reconstructions\u001b[0;34m(source, target, modifications)\u001b[0m\n\u001b[1;32m      5\u001b[0m \u001b[38;5;28;01mfor\u001b[39;00m operation, index_source, index_target \u001b[38;5;129;01min\u001b[39;00m modifications:\n\u001b[1;32m      6\u001b[0m     \u001b[38;5;28mprint\u001b[39m(operation, index_source, index_target)\n\u001b[0;32m----> 7\u001b[0m     \u001b[38;5;28mprint\u001b[39m(operation, index_source \u001b[38;5;241m+\u001b[39m np\u001b[38;5;241m.\u001b[39mcumsum(index_shift)[index_source], index_target)\n\u001b[1;32m      8\u001b[0m     \u001b[38;5;28;01mif\u001b[39;00m operation \u001b[38;5;241m==\u001b[39m \u001b[38;5;124m'\u001b[39m\u001b[38;5;124minsert\u001b[39m\u001b[38;5;124m'\u001b[39m:\n\u001b[1;32m      9\u001b[0m         partial_reconstruction\u001b[38;5;241m.\u001b[39minsert(index_source, target[index_target])\n",
      "\u001b[0;31mIndexError\u001b[0m: index 12 is out of bounds for axis 0 with size 12"
     ]
    }
   ],
   "source": [
    "print(scrambled)\n",
    "print()\n",
    "\n",
    "for rec in create_partial_reconstructions(scrambled, original, best_reverse_modifications):\n",
    "    print(rec)\n",
    "    print()\n",
    "\n",
    "print(original)\n",
    "\n",
    "assert create_partial_reconstructions(scrambled, original, best_reverse_modifications)[-1] == original"
   ]
  },
  {
   "cell_type": "code",
   "execution_count": 8,
   "metadata": {},
   "outputs": [
    {
     "name": "stdout",
     "output_type": "stream",
     "text": [
      "\n",
      "['/', '<num>', '*', 'x3', '+', 'x1', '+', 'x2', '/', 'x2', 'pow2', 'x2']\n",
      "\n"
     ]
    }
   ],
   "source": [
    "reconstructed = scrambled.copy()\n",
    "for operation, index, value in reverse_modifications:\n",
    "    if operation == 'insert':\n",
    "        reconstructed = modify_insert(reconstructed, index, value)\n",
    "    elif operation == 'remove':\n",
    "        reconstructed = modify_remove(reconstructed, index)\n",
    "    elif operation == 'replace':\n",
    "        reconstructed = modify_replace(reconstructed, index, value)\n",
    "reconstructed = [str(t) for t in reconstructed]\n",
    "print()\n",
    "print(reconstructed)\n",
    "print()\n",
    "assert original == reconstructed"
   ]
  },
  {
   "cell_type": "code",
   "execution_count": 9,
   "metadata": {},
   "outputs": [
    {
     "name": "stdout",
     "output_type": "stream",
     "text": [
      "['+', '/', 'x2', '<num>', '*', '+', 'x1', 'asin', 'x2', '/', 'x3', '*', '+'] ('insert', 11, 'pow1_2')\n"
     ]
    }
   ],
   "source": [
    "input_ids = scrambled\n",
    "action = reverse_modifications[0]\n",
    "print(input_ids, action)"
   ]
  },
  {
   "cell_type": "code",
   "execution_count": 10,
   "metadata": {},
   "outputs": [],
   "source": [
    "def action_to_logit(action: tuple[str, int, str | None]) -> int:\n",
    "    available_values = list(space.operator_arity.keys()) + list(space.variables)\n",
    "    V = len(available_values)\n",
    "\n",
    "    if action[0] == 'remove':\n",
    "        return 0\n",
    "    elif action[0] == 'insert':\n",
    "        return 1 + available_values.index(action[2])\n",
    "    elif action[0] == 'replace':\n",
    "        return 1 + V + available_values.index(action[2])\n",
    "\n",
    "    raise ValueError(f'Invalid action: {action}')"
   ]
  },
  {
   "cell_type": "code",
   "execution_count": 11,
   "metadata": {},
   "outputs": [
    {
     "name": "stdout",
     "output_type": "stream",
     "text": [
      "12\n"
     ]
    }
   ],
   "source": [
    "logit = action_to_logit(action)\n",
    "print(logit)"
   ]
  }
 ],
 "metadata": {
  "kernelspec": {
   "display_name": "flash-ansr",
   "language": "python",
   "name": "python3"
  },
  "language_info": {
   "codemirror_mode": {
    "name": "ipython",
    "version": 3
   },
   "file_extension": ".py",
   "mimetype": "text/x-python",
   "name": "python",
   "nbconvert_exporter": "python",
   "pygments_lexer": "ipython3",
   "version": "3.11.10"
  }
 },
 "nbformat": 4,
 "nbformat_minor": 2
}
